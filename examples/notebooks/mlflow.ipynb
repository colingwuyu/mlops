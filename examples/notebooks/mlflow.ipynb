{
 "cells": [
  {
   "cell_type": "code",
   "execution_count": 1,
   "id": "9569f66e",
   "metadata": {},
   "outputs": [],
   "source": [
    "import mlflow.tracking"
   ]
  },
  {
   "cell_type": "code",
   "execution_count": 6,
   "id": "7a74d2ec",
   "metadata": {},
   "outputs": [],
   "source": [
    "client = mlflow.tracking.MlflowClient(\"http://localhost:5000\", \"http://localhost:5000\")"
   ]
  },
  {
   "cell_type": "code",
   "execution_count": 11,
   "id": "97a5c767",
   "metadata": {},
   "outputs": [],
   "source": [
    "client.delete_registered_model('IRIS')"
   ]
  },
  {
   "cell_type": "code",
   "execution_count": null,
   "id": "adfbf6d4",
   "metadata": {},
   "outputs": [],
   "source": []
  }
 ],
 "metadata": {
  "kernelspec": {
   "display_name": "mlops",
   "language": "python",
   "name": "mlops"
  },
  "language_info": {
   "codemirror_mode": {
    "name": "ipython",
    "version": 3
   },
   "file_extension": ".py",
   "mimetype": "text/x-python",
   "name": "python",
   "nbconvert_exporter": "python",
   "pygments_lexer": "ipython3",
   "version": "3.7.10"
  }
 },
 "nbformat": 4,
 "nbformat_minor": 5
}
