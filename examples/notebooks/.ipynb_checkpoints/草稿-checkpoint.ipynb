{
 "cells": [
  {
   "cell_type": "markdown",
   "id": "9fcd6029",
   "metadata": {},
   "source": [
    "# Add Workspace into Path"
   ]
  },
  {
   "cell_type": "code",
   "execution_count": 1,
   "id": "155d0df3",
   "metadata": {},
   "outputs": [
    {
     "name": "stdout",
     "output_type": "stream",
     "text": [
      "/home/colin/projects/docker_projects/mlops/examples/notebooks\n"
     ]
    }
   ],
   "source": [
    "import os\n",
    "print(os.getcwd())\n",
    "import sys\n",
    "sys.path.append(os.path.join(os.getcwd(),\"../../\"))\n",
    "os.chdir(\"../iris/serving\")"
   ]
  },
  {
   "cell_type": "code",
   "execution_count": 2,
   "id": "83318abd",
   "metadata": {},
   "outputs": [],
   "source": [
    "lda_run_id = \"10e9fb4f4f5647a896a3e5f761fa6628\"\n",
    "data_extra_run_id = \"2d9911befdbd488ebdb5887bc3dafd5d\"\n",
    "data_split_run_id = \"48fd4fdc937b4970be9abed72dce0391\""
   ]
  },
  {
   "cell_type": "code",
   "execution_count": 2,
   "id": "beac3a4c",
   "metadata": {},
   "outputs": [],
   "source": [
    "import pandas as pd"
   ]
  },
  {
   "cell_type": "code",
   "execution_count": 3,
   "id": "a3dd8f1e",
   "metadata": {},
   "outputs": [],
   "source": [
    "dataset = pd.read_csv(\"https://raw.githubusercontent.com/jbrownlee/Datasets/master/iris.csv\")"
   ]
  },
  {
   "cell_type": "code",
   "execution_count": 4,
   "id": "8e2cb8a0",
   "metadata": {},
   "outputs": [
    {
     "data": {
      "text/plain": [
       "Index(['5.1', '3.5', '1.4', '0.2', 'Iris-setosa'], dtype='object')"
      ]
     },
     "execution_count": 4,
     "metadata": {},
     "output_type": "execute_result"
    }
   ],
   "source": [
    "dataset.columns"
   ]
  },
  {
   "cell_type": "code",
   "execution_count": 32,
   "id": "3061fea5",
   "metadata": {},
   "outputs": [
    {
     "data": {
      "text/html": [
       "<div>\n",
       "<style scoped>\n",
       "    .dataframe tbody tr th:only-of-type {\n",
       "        vertical-align: middle;\n",
       "    }\n",
       "\n",
       "    .dataframe tbody tr th {\n",
       "        vertical-align: top;\n",
       "    }\n",
       "\n",
       "    .dataframe thead th {\n",
       "        text-align: right;\n",
       "    }\n",
       "</style>\n",
       "<table border=\"1\" class=\"dataframe\">\n",
       "  <thead>\n",
       "    <tr style=\"text-align: right;\">\n",
       "      <th></th>\n",
       "      <th>model_inference_0</th>\n",
       "      <th>model_inference_1</th>\n",
       "      <th>model_inference_2</th>\n",
       "    </tr>\n",
       "  </thead>\n",
       "  <tbody>\n",
       "    <tr>\n",
       "      <th>0</th>\n",
       "      <td>1.000000e+00</td>\n",
       "      <td>5.963881e-22</td>\n",
       "      <td>2.536957e-42</td>\n",
       "    </tr>\n",
       "    <tr>\n",
       "      <th>1</th>\n",
       "      <td>1.000000e+00</td>\n",
       "      <td>6.910443e-18</td>\n",
       "      <td>2.531916e-37</td>\n",
       "    </tr>\n",
       "    <tr>\n",
       "      <th>2</th>\n",
       "      <td>1.000000e+00</td>\n",
       "      <td>3.395568e-19</td>\n",
       "      <td>9.723641e-39</td>\n",
       "    </tr>\n",
       "    <tr>\n",
       "      <th>3</th>\n",
       "      <td>1.000000e+00</td>\n",
       "      <td>5.611437e-16</td>\n",
       "      <td>2.525115e-34</td>\n",
       "    </tr>\n",
       "    <tr>\n",
       "      <th>4</th>\n",
       "      <td>1.000000e+00</td>\n",
       "      <td>4.456982e-22</td>\n",
       "      <td>2.749715e-42</td>\n",
       "    </tr>\n",
       "    <tr>\n",
       "      <th>...</th>\n",
       "      <td>...</td>\n",
       "      <td>...</td>\n",
       "      <td>...</td>\n",
       "    </tr>\n",
       "    <tr>\n",
       "      <th>145</th>\n",
       "      <td>3.544893e-36</td>\n",
       "      <td>3.063227e-04</td>\n",
       "      <td>9.996937e-01</td>\n",
       "    </tr>\n",
       "    <tr>\n",
       "      <th>146</th>\n",
       "      <td>3.496092e-34</td>\n",
       "      <td>1.050566e-02</td>\n",
       "      <td>9.894943e-01</td>\n",
       "    </tr>\n",
       "    <tr>\n",
       "      <th>147</th>\n",
       "      <td>1.578939e-33</td>\n",
       "      <td>3.727716e-03</td>\n",
       "      <td>9.962723e-01</td>\n",
       "    </tr>\n",
       "    <tr>\n",
       "      <th>148</th>\n",
       "      <td>5.006720e-40</td>\n",
       "      <td>5.390525e-06</td>\n",
       "      <td>9.999946e-01</td>\n",
       "    </tr>\n",
       "    <tr>\n",
       "      <th>149</th>\n",
       "      <td>1.003359e-33</td>\n",
       "      <td>3.666698e-03</td>\n",
       "      <td>9.963333e-01</td>\n",
       "    </tr>\n",
       "  </tbody>\n",
       "</table>\n",
       "<p>150 rows × 3 columns</p>\n",
       "</div>"
      ],
      "text/plain": [
       "     model_inference_0  model_inference_1  model_inference_2\n",
       "0         1.000000e+00       5.963881e-22       2.536957e-42\n",
       "1         1.000000e+00       6.910443e-18       2.531916e-37\n",
       "2         1.000000e+00       3.395568e-19       9.723641e-39\n",
       "3         1.000000e+00       5.611437e-16       2.525115e-34\n",
       "4         1.000000e+00       4.456982e-22       2.749715e-42\n",
       "..                 ...                ...                ...\n",
       "145       3.544893e-36       3.063227e-04       9.996937e-01\n",
       "146       3.496092e-34       1.050566e-02       9.894943e-01\n",
       "147       1.578939e-33       3.727716e-03       9.962723e-01\n",
       "148       5.006720e-40       5.390525e-06       9.999946e-01\n",
       "149       1.003359e-33       3.666698e-03       9.963333e-01\n",
       "\n",
       "[150 rows x 3 columns]"
      ]
     },
     "execution_count": 32,
     "metadata": {},
     "output_type": "execute_result"
    }
   ],
   "source": [
    "infer_data = pd.read_csv(\"data/outbound/outputs.csv\") \\\n",
    "    .filter(like='model_inference') \n",
    "infer_data"
   ]
  },
  {
   "cell_type": "code",
   "execution_count": 33,
   "id": "cf7e5af8",
   "metadata": {},
   "outputs": [],
   "source": [
    "infer_data['model_inference'] = \\\n",
    "    infer_data.apply(lambda x: tf.constant(x.values), axis=1)"
   ]
  },
  {
   "cell_type": "code",
   "execution_count": 35,
   "id": "f7c32ba6",
   "metadata": {},
   "outputs": [],
   "source": [
    "gt_data = pd.read_csv(\"data/raw_data.csv\")"
   ]
  },
  {
   "cell_type": "code",
   "execution_count": 36,
   "id": "a67618cc",
   "metadata": {},
   "outputs": [],
   "source": [
    "eval_data = gt_data.join(infer_data)"
   ]
  },
  {
   "cell_type": "code",
   "execution_count": 37,
   "id": "0d6ddb29",
   "metadata": {},
   "outputs": [],
   "source": [
    "from sklearn import preprocessing\n",
    "# integer encode\n",
    "label_encoder = preprocessing.LabelEncoder()\n",
    "integer_encoded = label_encoder.fit_transform(gt_data['species'])\n",
    "eval_data['species_int'] = integer_encoded"
   ]
  },
  {
   "cell_type": "code",
   "execution_count": 104,
   "id": "6a137428",
   "metadata": {},
   "outputs": [],
   "source": [
    "def class_one_hot_transform(label_encoder, onehot_encoder, data):\n",
    "    integer_encoded = label_encoder.transform(data)\n",
    "    integer_encoded = integer_encoded.reshape(len(integer_encoded), 1)\n",
    "    onehot_encoded = onehot_encoder.transform(integer_encoded)\n",
    "    return onehot_encoded"
   ]
  },
  {
   "cell_type": "code",
   "execution_count": 108,
   "id": "6f882734",
   "metadata": {},
   "outputs": [
    {
     "name": "stdout",
     "output_type": "stream",
     "text": [
      "[0 0 0 0 0 0 0 0 0 0 0 0 0 0 0 0 0 0 0 0 0 0 0 0 0 0 0 0 0 0 0 0 0 0 0 0 0\n",
      " 0 0 0 0 0 0 0 0 0 0 0 0 0 1 1 1 1 1 1 1 1 1 1 1 1 1 1 1 1 1 1 1 1 1 1 1 1\n",
      " 1 1 1 1 1 1 1 1 1 1 1 1 1 1 1 1 1 1 1 1 1 1 1 1 1 1 2 2 2 2 2 2 2 2 2 2 2\n",
      " 2 2 2 2 2 2 2 2 2 2 2 2 2 2 2 2 2 2 2 2 2 2 2 2 2 2 2 2 2 2 2 2 2 2 2 2 2\n",
      " 2 2]\n"
     ]
    }
   ],
   "source": [
    "from sklearn import preprocessing\n",
    "# integer encode\n",
    "label_encoder = preprocessing.LabelEncoder()\n",
    "integer_encoded = label_encoder.fit_transform(gt_data['species'])\n",
    "print(integer_encoded)\n",
    "# binary encode\n",
    "# onehot_encoder = preprocessing.OneHotEncoder(sparse=False)\n",
    "# integer_encoded = integer_encoded.reshape(len(integer_encoded), 1)\n",
    "# onehot_encoded = onehot_encoder.fit_transform(integer_encoded)\n",
    "# eval_data['model_inference'] = class_one_hot_transform(label_encoder, onehot_encoder, eval_data['model_inference']).tolist()\n",
    "eval_data['species'] = class_one_hot_transform(label_encoder, onehot_encoder, eval_data['species']).tolist()"
   ]
  },
  {
   "cell_type": "code",
   "execution_count": 29,
   "id": "4c595ea0",
   "metadata": {},
   "outputs": [],
   "source": [
    "from google.protobuf import text_format\n",
    "import tensorflow_model_analysis as tfma\n",
    "import tensorflow as tf"
   ]
  },
  {
   "cell_type": "code",
   "execution_count": 28,
   "id": "a8944b0c",
   "metadata": {},
   "outputs": [],
   "source": [
    "\n",
    "eval_config = text_format.Parse(\"\"\"\n",
    "  model_specs {\n",
    "    label_key: 'species'\n",
    "    prediction_key: 'model_inference'\n",
    "  }\n",
    "  metrics_specs {\n",
    "    metrics { class_name: \"AUC\" }\n",
    "    metrics { class_name: \"ConfusionMatrixPlot\" }\n",
    "  }\n",
    "  slicing_specs {}\n",
    "\"\"\", tfma.EvalConfig())"
   ]
  },
  {
   "cell_type": "code",
   "execution_count": 40,
   "id": "d1a9a26b",
   "metadata": {},
   "outputs": [],
   "source": [
    "metrics = [\n",
    "    tfma.metrics.ExampleCount(name='example_count'),\n",
    "    tfma.metrics.WeightedExampleCount(name='weighted_example_count'),\n",
    "    tf.keras.metrics.SparseCategoricalCrossentropy(\n",
    "        name='sparse_categorical_crossentropy'),\n",
    "    tf.keras.metrics.SparseCategoricalAccuracy(name='accuracy'),\n",
    "    tf.keras.metrics.Precision(name='precision'),\n",
    "    tf.keras.metrics.Recall(name='recall'),\n",
    "    tfma.metrics.MultiClassConfusionMatrixPlot(\n",
    "        name='multi_class_confusion_matrix_plot'),\n",
    "]\n",
    "metrics_specs = tfma.metrics.specs_from_metrics(metrics)"
   ]
  },
  {
   "cell_type": "code",
   "execution_count": 44,
   "id": "1a724fe8",
   "metadata": {},
   "outputs": [],
   "source": [
    "eval_config = tfma.EvalConfig(\n",
    "    model_specs=[tfma.ModelSpec(label_key='species_int', prediction_key='model_inference_0')],\n",
    "    metrics_specs=metrics_specs,\n",
    "    slicing_specs=[tfma.SlicingSpec()]\n",
    ")"
   ]
  },
  {
   "cell_type": "code",
   "execution_count": 45,
   "id": "5be6072e",
   "metadata": {},
   "outputs": [
    {
     "ename": "ArrowTypeError",
     "evalue": "(\"Expected bytes, got a 'tensorflow.python.framework.ops.EagerTensor' object\", 'Conversion failed for column model_inference with type object')",
     "output_type": "error",
     "traceback": [
      "\u001b[0;31m---------------------------------------------------------------------------\u001b[0m",
      "\u001b[0;31mArrowTypeError\u001b[0m                            Traceback (most recent call last)",
      "\u001b[0;32m<ipython-input-45-ed471d568e22>\u001b[0m in \u001b[0;36m<module>\u001b[0;34m\u001b[0m\n\u001b[0;32m----> 1\u001b[0;31m \u001b[0meval_result\u001b[0m \u001b[0;34m=\u001b[0m \u001b[0mtfma\u001b[0m\u001b[0;34m.\u001b[0m\u001b[0manalyze_raw_data\u001b[0m\u001b[0;34m(\u001b[0m\u001b[0meval_data\u001b[0m\u001b[0;34m,\u001b[0m \u001b[0meval_config\u001b[0m\u001b[0;34m)\u001b[0m\u001b[0;34m\u001b[0m\u001b[0;34m\u001b[0m\u001b[0m\n\u001b[0m",
      "\u001b[0;32m~/anaconda3/envs/mlops/lib/python3.7/site-packages/tensorflow_model_analysis/api/model_eval_lib.py\u001b[0m in \u001b[0;36manalyze_raw_data\u001b[0;34m(data, eval_config, output_path, add_metric_callbacks)\u001b[0m\n\u001b[1;32m   1474\u001b[0m \u001b[0;34m\u001b[0m\u001b[0m\n\u001b[1;32m   1475\u001b[0m   arrow_data = table_util.CanonicalizeRecordBatch(\n\u001b[0;32m-> 1476\u001b[0;31m       table_util.DataFrameToRecordBatch(data))\n\u001b[0m\u001b[1;32m   1477\u001b[0m   \u001b[0mbeam_data\u001b[0m \u001b[0;34m=\u001b[0m \u001b[0mbeam\u001b[0m\u001b[0;34m.\u001b[0m\u001b[0mCreate\u001b[0m\u001b[0;34m(\u001b[0m\u001b[0;34m[\u001b[0m\u001b[0marrow_data\u001b[0m\u001b[0;34m]\u001b[0m\u001b[0;34m)\u001b[0m\u001b[0;34m\u001b[0m\u001b[0;34m\u001b[0m\u001b[0m\n\u001b[1;32m   1478\u001b[0m \u001b[0;34m\u001b[0m\u001b[0m\n",
      "\u001b[0;32m~/anaconda3/envs/mlops/lib/python3.7/site-packages/tfx_bsl/arrow/table_util.py\u001b[0m in \u001b[0;36mDataFrameToRecordBatch\u001b[0;34m(dataframe)\u001b[0m\n\u001b[1;32m    122\u001b[0m       \u001b[0;32mcontinue\u001b[0m\u001b[0;34m\u001b[0m\u001b[0;34m\u001b[0m\u001b[0m\n\u001b[1;32m    123\u001b[0m     \u001b[0marrow_fields\u001b[0m\u001b[0;34m.\u001b[0m\u001b[0mappend\u001b[0m\u001b[0;34m(\u001b[0m\u001b[0mpa\u001b[0m\u001b[0;34m.\u001b[0m\u001b[0mfield\u001b[0m\u001b[0;34m(\u001b[0m\u001b[0mcol_name\u001b[0m\u001b[0;34m,\u001b[0m \u001b[0marrow_type\u001b[0m\u001b[0;34m)\u001b[0m\u001b[0;34m)\u001b[0m\u001b[0;34m\u001b[0m\u001b[0;34m\u001b[0m\u001b[0m\n\u001b[0;32m--> 124\u001b[0;31m   \u001b[0;32mreturn\u001b[0m \u001b[0mpa\u001b[0m\u001b[0;34m.\u001b[0m\u001b[0mRecordBatch\u001b[0m\u001b[0;34m.\u001b[0m\u001b[0mfrom_pandas\u001b[0m\u001b[0;34m(\u001b[0m\u001b[0mdataframe\u001b[0m\u001b[0;34m,\u001b[0m \u001b[0mschema\u001b[0m\u001b[0;34m=\u001b[0m\u001b[0mpa\u001b[0m\u001b[0;34m.\u001b[0m\u001b[0mschema\u001b[0m\u001b[0;34m(\u001b[0m\u001b[0marrow_fields\u001b[0m\u001b[0;34m)\u001b[0m\u001b[0;34m)\u001b[0m\u001b[0;34m\u001b[0m\u001b[0;34m\u001b[0m\u001b[0m\n\u001b[0m\u001b[1;32m    125\u001b[0m \u001b[0;34m\u001b[0m\u001b[0m\n\u001b[1;32m    126\u001b[0m \u001b[0;34m\u001b[0m\u001b[0m\n",
      "\u001b[0;32m~/anaconda3/envs/mlops/lib/python3.7/site-packages/pyarrow/table.pxi\u001b[0m in \u001b[0;36mpyarrow.lib.RecordBatch.from_pandas\u001b[0;34m()\u001b[0m\n",
      "\u001b[0;32m~/anaconda3/envs/mlops/lib/python3.7/site-packages/pyarrow/pandas_compat.py\u001b[0m in \u001b[0;36mdataframe_to_arrays\u001b[0;34m(df, schema, preserve_index, nthreads, columns, safe)\u001b[0m\n\u001b[1;32m    586\u001b[0m     \u001b[0;32mif\u001b[0m \u001b[0mnthreads\u001b[0m \u001b[0;34m==\u001b[0m \u001b[0;36m1\u001b[0m\u001b[0;34m:\u001b[0m\u001b[0;34m\u001b[0m\u001b[0;34m\u001b[0m\u001b[0m\n\u001b[1;32m    587\u001b[0m         arrays = [convert_column(c, f)\n\u001b[0;32m--> 588\u001b[0;31m                   for c, f in zip(columns_to_convert, convert_fields)]\n\u001b[0m\u001b[1;32m    589\u001b[0m     \u001b[0;32melse\u001b[0m\u001b[0;34m:\u001b[0m\u001b[0;34m\u001b[0m\u001b[0;34m\u001b[0m\u001b[0m\n\u001b[1;32m    590\u001b[0m         \u001b[0;32mfrom\u001b[0m \u001b[0mconcurrent\u001b[0m \u001b[0;32mimport\u001b[0m \u001b[0mfutures\u001b[0m\u001b[0;34m\u001b[0m\u001b[0;34m\u001b[0m\u001b[0m\n",
      "\u001b[0;32m~/anaconda3/envs/mlops/lib/python3.7/site-packages/pyarrow/pandas_compat.py\u001b[0m in \u001b[0;36m<listcomp>\u001b[0;34m(.0)\u001b[0m\n\u001b[1;32m    586\u001b[0m     \u001b[0;32mif\u001b[0m \u001b[0mnthreads\u001b[0m \u001b[0;34m==\u001b[0m \u001b[0;36m1\u001b[0m\u001b[0;34m:\u001b[0m\u001b[0;34m\u001b[0m\u001b[0;34m\u001b[0m\u001b[0m\n\u001b[1;32m    587\u001b[0m         arrays = [convert_column(c, f)\n\u001b[0;32m--> 588\u001b[0;31m                   for c, f in zip(columns_to_convert, convert_fields)]\n\u001b[0m\u001b[1;32m    589\u001b[0m     \u001b[0;32melse\u001b[0m\u001b[0;34m:\u001b[0m\u001b[0;34m\u001b[0m\u001b[0;34m\u001b[0m\u001b[0m\n\u001b[1;32m    590\u001b[0m         \u001b[0;32mfrom\u001b[0m \u001b[0mconcurrent\u001b[0m \u001b[0;32mimport\u001b[0m \u001b[0mfutures\u001b[0m\u001b[0;34m\u001b[0m\u001b[0;34m\u001b[0m\u001b[0m\n",
      "\u001b[0;32m~/anaconda3/envs/mlops/lib/python3.7/site-packages/pyarrow/pandas_compat.py\u001b[0m in \u001b[0;36mconvert_column\u001b[0;34m(col, field)\u001b[0m\n\u001b[1;32m    572\u001b[0m             e.args += (\"Conversion failed for column {!s} with type {!s}\"\n\u001b[1;32m    573\u001b[0m                        .format(col.name, col.dtype),)\n\u001b[0;32m--> 574\u001b[0;31m             \u001b[0;32mraise\u001b[0m \u001b[0me\u001b[0m\u001b[0;34m\u001b[0m\u001b[0;34m\u001b[0m\u001b[0m\n\u001b[0m\u001b[1;32m    575\u001b[0m         \u001b[0;32mif\u001b[0m \u001b[0;32mnot\u001b[0m \u001b[0mfield_nullable\u001b[0m \u001b[0;32mand\u001b[0m \u001b[0mresult\u001b[0m\u001b[0;34m.\u001b[0m\u001b[0mnull_count\u001b[0m \u001b[0;34m>\u001b[0m \u001b[0;36m0\u001b[0m\u001b[0;34m:\u001b[0m\u001b[0;34m\u001b[0m\u001b[0;34m\u001b[0m\u001b[0m\n\u001b[1;32m    576\u001b[0m             raise ValueError(\"Field {} was non-nullable but pandas column \"\n",
      "\u001b[0;32m~/anaconda3/envs/mlops/lib/python3.7/site-packages/pyarrow/pandas_compat.py\u001b[0m in \u001b[0;36mconvert_column\u001b[0;34m(col, field)\u001b[0m\n\u001b[1;32m    566\u001b[0m \u001b[0;34m\u001b[0m\u001b[0m\n\u001b[1;32m    567\u001b[0m         \u001b[0;32mtry\u001b[0m\u001b[0;34m:\u001b[0m\u001b[0;34m\u001b[0m\u001b[0;34m\u001b[0m\u001b[0m\n\u001b[0;32m--> 568\u001b[0;31m             \u001b[0mresult\u001b[0m \u001b[0;34m=\u001b[0m \u001b[0mpa\u001b[0m\u001b[0;34m.\u001b[0m\u001b[0marray\u001b[0m\u001b[0;34m(\u001b[0m\u001b[0mcol\u001b[0m\u001b[0;34m,\u001b[0m \u001b[0mtype\u001b[0m\u001b[0;34m=\u001b[0m\u001b[0mtype_\u001b[0m\u001b[0;34m,\u001b[0m \u001b[0mfrom_pandas\u001b[0m\u001b[0;34m=\u001b[0m\u001b[0;32mTrue\u001b[0m\u001b[0;34m,\u001b[0m \u001b[0msafe\u001b[0m\u001b[0;34m=\u001b[0m\u001b[0msafe\u001b[0m\u001b[0;34m)\u001b[0m\u001b[0;34m\u001b[0m\u001b[0;34m\u001b[0m\u001b[0m\n\u001b[0m\u001b[1;32m    569\u001b[0m         except (pa.ArrowInvalid,\n\u001b[1;32m    570\u001b[0m                 \u001b[0mpa\u001b[0m\u001b[0;34m.\u001b[0m\u001b[0mArrowNotImplementedError\u001b[0m\u001b[0;34m,\u001b[0m\u001b[0;34m\u001b[0m\u001b[0;34m\u001b[0m\u001b[0m\n",
      "\u001b[0;32m~/anaconda3/envs/mlops/lib/python3.7/site-packages/pyarrow/array.pxi\u001b[0m in \u001b[0;36mpyarrow.lib.array\u001b[0;34m()\u001b[0m\n",
      "\u001b[0;32m~/anaconda3/envs/mlops/lib/python3.7/site-packages/pyarrow/array.pxi\u001b[0m in \u001b[0;36mpyarrow.lib._ndarray_to_array\u001b[0;34m()\u001b[0m\n",
      "\u001b[0;32m~/anaconda3/envs/mlops/lib/python3.7/site-packages/pyarrow/error.pxi\u001b[0m in \u001b[0;36mpyarrow.lib.check_status\u001b[0;34m()\u001b[0m\n",
      "\u001b[0;31mArrowTypeError\u001b[0m: (\"Expected bytes, got a 'tensorflow.python.framework.ops.EagerTensor' object\", 'Conversion failed for column model_inference with type object')"
     ]
    }
   ],
   "source": [
    "eval_result = tfma.analyze_raw_data(eval_data, eval_config)"
   ]
  },
  {
   "cell_type": "code",
   "execution_count": 67,
   "id": "3a60743d",
   "metadata": {},
   "outputs": [
    {
     "data": {
      "text/html": [
       "<div>\n",
       "<style scoped>\n",
       "    .dataframe tbody tr th:only-of-type {\n",
       "        vertical-align: middle;\n",
       "    }\n",
       "\n",
       "    .dataframe tbody tr th {\n",
       "        vertical-align: top;\n",
       "    }\n",
       "\n",
       "    .dataframe thead th {\n",
       "        text-align: right;\n",
       "    }\n",
       "</style>\n",
       "<table border=\"1\" class=\"dataframe\">\n",
       "  <thead>\n",
       "    <tr style=\"text-align: right;\">\n",
       "      <th></th>\n",
       "      <th>sepal-length</th>\n",
       "      <th>sepal-width</th>\n",
       "      <th>petal-length</th>\n",
       "      <th>petal-width</th>\n",
       "      <th>species</th>\n",
       "      <th>model_inference</th>\n",
       "    </tr>\n",
       "  </thead>\n",
       "  <tbody>\n",
       "    <tr>\n",
       "      <th>0</th>\n",
       "      <td>5.1</td>\n",
       "      <td>3.5</td>\n",
       "      <td>1.4</td>\n",
       "      <td>0.2</td>\n",
       "      <td>0</td>\n",
       "      <td>0</td>\n",
       "    </tr>\n",
       "    <tr>\n",
       "      <th>1</th>\n",
       "      <td>4.9</td>\n",
       "      <td>3.0</td>\n",
       "      <td>1.4</td>\n",
       "      <td>0.2</td>\n",
       "      <td>0</td>\n",
       "      <td>0</td>\n",
       "    </tr>\n",
       "    <tr>\n",
       "      <th>2</th>\n",
       "      <td>4.7</td>\n",
       "      <td>3.2</td>\n",
       "      <td>1.3</td>\n",
       "      <td>0.2</td>\n",
       "      <td>0</td>\n",
       "      <td>0</td>\n",
       "    </tr>\n",
       "    <tr>\n",
       "      <th>3</th>\n",
       "      <td>4.6</td>\n",
       "      <td>3.1</td>\n",
       "      <td>1.5</td>\n",
       "      <td>0.2</td>\n",
       "      <td>0</td>\n",
       "      <td>0</td>\n",
       "    </tr>\n",
       "    <tr>\n",
       "      <th>4</th>\n",
       "      <td>5.0</td>\n",
       "      <td>3.6</td>\n",
       "      <td>1.4</td>\n",
       "      <td>0.2</td>\n",
       "      <td>0</td>\n",
       "      <td>0</td>\n",
       "    </tr>\n",
       "    <tr>\n",
       "      <th>...</th>\n",
       "      <td>...</td>\n",
       "      <td>...</td>\n",
       "      <td>...</td>\n",
       "      <td>...</td>\n",
       "      <td>...</td>\n",
       "      <td>...</td>\n",
       "    </tr>\n",
       "    <tr>\n",
       "      <th>145</th>\n",
       "      <td>6.7</td>\n",
       "      <td>3.0</td>\n",
       "      <td>5.2</td>\n",
       "      <td>2.3</td>\n",
       "      <td>2</td>\n",
       "      <td>2</td>\n",
       "    </tr>\n",
       "    <tr>\n",
       "      <th>146</th>\n",
       "      <td>6.3</td>\n",
       "      <td>2.5</td>\n",
       "      <td>5.0</td>\n",
       "      <td>1.9</td>\n",
       "      <td>2</td>\n",
       "      <td>2</td>\n",
       "    </tr>\n",
       "    <tr>\n",
       "      <th>147</th>\n",
       "      <td>6.5</td>\n",
       "      <td>3.0</td>\n",
       "      <td>5.2</td>\n",
       "      <td>2.0</td>\n",
       "      <td>2</td>\n",
       "      <td>2</td>\n",
       "    </tr>\n",
       "    <tr>\n",
       "      <th>148</th>\n",
       "      <td>6.2</td>\n",
       "      <td>3.4</td>\n",
       "      <td>5.4</td>\n",
       "      <td>2.3</td>\n",
       "      <td>2</td>\n",
       "      <td>2</td>\n",
       "    </tr>\n",
       "    <tr>\n",
       "      <th>149</th>\n",
       "      <td>5.9</td>\n",
       "      <td>3.0</td>\n",
       "      <td>5.1</td>\n",
       "      <td>1.8</td>\n",
       "      <td>2</td>\n",
       "      <td>2</td>\n",
       "    </tr>\n",
       "  </tbody>\n",
       "</table>\n",
       "<p>150 rows × 6 columns</p>\n",
       "</div>"
      ],
      "text/plain": [
       "     sepal-length  sepal-width  petal-length  petal-width  species  \\\n",
       "0             5.1          3.5           1.4          0.2        0   \n",
       "1             4.9          3.0           1.4          0.2        0   \n",
       "2             4.7          3.2           1.3          0.2        0   \n",
       "3             4.6          3.1           1.5          0.2        0   \n",
       "4             5.0          3.6           1.4          0.2        0   \n",
       "..            ...          ...           ...          ...      ...   \n",
       "145           6.7          3.0           5.2          2.3        2   \n",
       "146           6.3          2.5           5.0          1.9        2   \n",
       "147           6.5          3.0           5.2          2.0        2   \n",
       "148           6.2          3.4           5.4          2.3        2   \n",
       "149           5.9          3.0           5.1          1.8        2   \n",
       "\n",
       "     model_inference  \n",
       "0                  0  \n",
       "1                  0  \n",
       "2                  0  \n",
       "3                  0  \n",
       "4                  0  \n",
       "..               ...  \n",
       "145                2  \n",
       "146                2  \n",
       "147                2  \n",
       "148                2  \n",
       "149                2  \n",
       "\n",
       "[150 rows x 6 columns]"
      ]
     },
     "execution_count": 67,
     "metadata": {},
     "output_type": "execute_result"
    }
   ],
   "source": [
    "eval_data"
   ]
  },
  {
   "cell_type": "code",
   "execution_count": 69,
   "id": "25d2d7ec",
   "metadata": {},
   "outputs": [
    {
     "data": {
      "text/plain": [
       "array(['Iris-setosa', 'Iris-versicolor', 'Iris-virginica'], dtype=object)"
      ]
     },
     "execution_count": 69,
     "metadata": {},
     "output_type": "execute_result"
    }
   ],
   "source": [
    "le.classes_"
   ]
  },
  {
   "cell_type": "code",
   "execution_count": 32,
   "id": "ff5e75a7",
   "metadata": {},
   "outputs": [],
   "source": [
    "import tempfile"
   ]
  },
  {
   "cell_type": "code",
   "execution_count": 27,
   "id": "4ffb4ed2",
   "metadata": {},
   "outputs": [],
   "source": [
    "def train_input_fn():\n",
    "  titanic_file = tf.keras.utils.get_file(\"train.csv\", \"https://storage.googleapis.com/tf-datasets/titanic/train.csv\")\n",
    "  titanic = tf.data.experimental.make_csv_dataset(\n",
    "      titanic_file, batch_size=32,\n",
    "      label_name=\"survived\")\n",
    "  titanic_batches = (\n",
    "      titanic.cache().repeat().shuffle(500)\n",
    "      .prefetch(tf.data.AUTOTUNE))\n",
    "  return titanic_batches"
   ]
  },
  {
   "cell_type": "code",
   "execution_count": 30,
   "id": "22171457",
   "metadata": {},
   "outputs": [],
   "source": [
    "age = tf.feature_column.numeric_column('age')\n",
    "cls = tf.feature_column.categorical_column_with_vocabulary_list('class', ['First', 'Second', 'Third']) \n",
    "embark = tf.feature_column.categorical_column_with_hash_bucket('embark_town', 32)"
   ]
  },
  {
   "cell_type": "code",
   "execution_count": 33,
   "id": "f5871dce",
   "metadata": {},
   "outputs": [
    {
     "name": "stdout",
     "output_type": "stream",
     "text": [
      "INFO:tensorflow:Using default config.\n"
     ]
    },
    {
     "name": "stderr",
     "output_type": "stream",
     "text": [
      "INFO:tensorflow:Using default config.\n"
     ]
    },
    {
     "name": "stdout",
     "output_type": "stream",
     "text": [
      "INFO:tensorflow:Using config: {'_model_dir': '/tmp/tmpze1xf4dq', '_tf_random_seed': None, '_save_summary_steps': 100, '_save_checkpoints_steps': None, '_save_checkpoints_secs': 600, '_session_config': allow_soft_placement: true\n",
      "graph_options {\n",
      "  rewrite_options {\n",
      "    meta_optimizer_iterations: ONE\n",
      "  }\n",
      "}\n",
      ", '_keep_checkpoint_max': 5, '_keep_checkpoint_every_n_hours': 10000, '_log_step_count_steps': 100, '_train_distribute': None, '_device_fn': None, '_protocol': None, '_eval_distribute': None, '_experimental_distribute': None, '_experimental_max_worker_delay_secs': None, '_session_creation_timeout_secs': 7200, '_checkpoint_save_graph_def': True, '_service': None, '_cluster_spec': ClusterSpec({}), '_task_type': 'worker', '_task_id': 0, '_global_id_in_cluster': 0, '_master': '', '_evaluation_master': '', '_is_chief': True, '_num_ps_replicas': 0, '_num_worker_replicas': 1}\n"
     ]
    },
    {
     "name": "stderr",
     "output_type": "stream",
     "text": [
      "INFO:tensorflow:Using config: {'_model_dir': '/tmp/tmpze1xf4dq', '_tf_random_seed': None, '_save_summary_steps': 100, '_save_checkpoints_steps': None, '_save_checkpoints_secs': 600, '_session_config': allow_soft_placement: true\n",
      "graph_options {\n",
      "  rewrite_options {\n",
      "    meta_optimizer_iterations: ONE\n",
      "  }\n",
      "}\n",
      ", '_keep_checkpoint_max': 5, '_keep_checkpoint_every_n_hours': 10000, '_log_step_count_steps': 100, '_train_distribute': None, '_device_fn': None, '_protocol': None, '_eval_distribute': None, '_experimental_distribute': None, '_experimental_max_worker_delay_secs': None, '_session_creation_timeout_secs': 7200, '_checkpoint_save_graph_def': True, '_service': None, '_cluster_spec': ClusterSpec({}), '_task_type': 'worker', '_task_id': 0, '_global_id_in_cluster': 0, '_master': '', '_evaluation_master': '', '_is_chief': True, '_num_ps_replicas': 0, '_num_worker_replicas': 1}\n"
     ]
    }
   ],
   "source": [
    "model_dir = tempfile.mkdtemp()\n",
    "model = tf.estimator.LinearClassifier(\n",
    "    model_dir=model_dir,\n",
    "    feature_columns=[embark, cls, age],\n",
    "    n_classes=2\n",
    ")"
   ]
  },
  {
   "cell_type": "code",
   "execution_count": 53,
   "id": "bd4c0f3b",
   "metadata": {},
   "outputs": [
    {
     "name": "stdout",
     "output_type": "stream",
     "text": [
      "INFO:tensorflow:Calling model_fn.\n"
     ]
    },
    {
     "name": "stderr",
     "output_type": "stream",
     "text": [
      "INFO:tensorflow:Calling model_fn.\n"
     ]
    },
    {
     "name": "stdout",
     "output_type": "stream",
     "text": [
      "INFO:tensorflow:Done calling model_fn.\n"
     ]
    },
    {
     "name": "stderr",
     "output_type": "stream",
     "text": [
      "/home/colin/anaconda3/envs/mlops/lib/python3.7/site-packages/tensorflow/python/keras/engine/base_layer_v1.py:1727: UserWarning: `layer.add_variable` is deprecated and will be removed in a future version. Please use `layer.add_weight` method instead.\n",
      "  warnings.warn('`layer.add_variable` is deprecated and '\n",
      "INFO:tensorflow:Done calling model_fn.\n"
     ]
    },
    {
     "name": "stdout",
     "output_type": "stream",
     "text": [
      "INFO:tensorflow:Create CheckpointSaverHook.\n"
     ]
    },
    {
     "name": "stderr",
     "output_type": "stream",
     "text": [
      "INFO:tensorflow:Create CheckpointSaverHook.\n"
     ]
    },
    {
     "name": "stdout",
     "output_type": "stream",
     "text": [
      "INFO:tensorflow:Graph was finalized.\n"
     ]
    },
    {
     "name": "stderr",
     "output_type": "stream",
     "text": [
      "INFO:tensorflow:Graph was finalized.\n"
     ]
    },
    {
     "name": "stdout",
     "output_type": "stream",
     "text": [
      "INFO:tensorflow:Restoring parameters from /tmp/tmpze1xf4dq/model.ckpt-100\n"
     ]
    },
    {
     "name": "stderr",
     "output_type": "stream",
     "text": [
      "INFO:tensorflow:Restoring parameters from /tmp/tmpze1xf4dq/model.ckpt-100\n"
     ]
    },
    {
     "name": "stdout",
     "output_type": "stream",
     "text": [
      "WARNING:tensorflow:From /home/colin/anaconda3/envs/mlops/lib/python3.7/site-packages/tensorflow/python/training/saver.py:1076: get_checkpoint_mtimes (from tensorflow.python.training.checkpoint_management) is deprecated and will be removed in a future version.\n",
      "Instructions for updating:\n",
      "Use standard file utilities to get mtimes.\n"
     ]
    },
    {
     "name": "stderr",
     "output_type": "stream",
     "text": [
      "WARNING:tensorflow:From /home/colin/anaconda3/envs/mlops/lib/python3.7/site-packages/tensorflow/python/training/saver.py:1076: get_checkpoint_mtimes (from tensorflow.python.training.checkpoint_management) is deprecated and will be removed in a future version.\n",
      "Instructions for updating:\n",
      "Use standard file utilities to get mtimes.\n"
     ]
    },
    {
     "name": "stdout",
     "output_type": "stream",
     "text": [
      "INFO:tensorflow:Running local_init_op.\n"
     ]
    },
    {
     "name": "stderr",
     "output_type": "stream",
     "text": [
      "INFO:tensorflow:Running local_init_op.\n"
     ]
    },
    {
     "name": "stdout",
     "output_type": "stream",
     "text": [
      "INFO:tensorflow:Done running local_init_op.\n"
     ]
    },
    {
     "name": "stderr",
     "output_type": "stream",
     "text": [
      "INFO:tensorflow:Done running local_init_op.\n"
     ]
    },
    {
     "name": "stdout",
     "output_type": "stream",
     "text": [
      "INFO:tensorflow:Calling checkpoint listeners before saving checkpoint 100...\n"
     ]
    },
    {
     "name": "stderr",
     "output_type": "stream",
     "text": [
      "INFO:tensorflow:Calling checkpoint listeners before saving checkpoint 100...\n"
     ]
    },
    {
     "name": "stdout",
     "output_type": "stream",
     "text": [
      "INFO:tensorflow:Saving checkpoints for 100 into /tmp/tmpze1xf4dq/model.ckpt.\n"
     ]
    },
    {
     "name": "stderr",
     "output_type": "stream",
     "text": [
      "INFO:tensorflow:Saving checkpoints for 100 into /tmp/tmpze1xf4dq/model.ckpt.\n"
     ]
    },
    {
     "name": "stdout",
     "output_type": "stream",
     "text": [
      "INFO:tensorflow:Calling checkpoint listeners after saving checkpoint 100...\n"
     ]
    },
    {
     "name": "stderr",
     "output_type": "stream",
     "text": [
      "INFO:tensorflow:Calling checkpoint listeners after saving checkpoint 100...\n"
     ]
    },
    {
     "name": "stdout",
     "output_type": "stream",
     "text": [
      "INFO:tensorflow:loss = 0.5354664, step = 100\n"
     ]
    },
    {
     "name": "stderr",
     "output_type": "stream",
     "text": [
      "INFO:tensorflow:loss = 0.5354664, step = 100\n"
     ]
    },
    {
     "name": "stdout",
     "output_type": "stream",
     "text": [
      "INFO:tensorflow:Calling checkpoint listeners before saving checkpoint 200...\n"
     ]
    },
    {
     "name": "stderr",
     "output_type": "stream",
     "text": [
      "INFO:tensorflow:Calling checkpoint listeners before saving checkpoint 200...\n"
     ]
    },
    {
     "name": "stdout",
     "output_type": "stream",
     "text": [
      "INFO:tensorflow:Saving checkpoints for 200 into /tmp/tmpze1xf4dq/model.ckpt.\n"
     ]
    },
    {
     "name": "stderr",
     "output_type": "stream",
     "text": [
      "INFO:tensorflow:Saving checkpoints for 200 into /tmp/tmpze1xf4dq/model.ckpt.\n"
     ]
    },
    {
     "name": "stdout",
     "output_type": "stream",
     "text": [
      "INFO:tensorflow:Calling checkpoint listeners after saving checkpoint 200...\n"
     ]
    },
    {
     "name": "stderr",
     "output_type": "stream",
     "text": [
      "INFO:tensorflow:Calling checkpoint listeners after saving checkpoint 200...\n"
     ]
    },
    {
     "name": "stdout",
     "output_type": "stream",
     "text": [
      "INFO:tensorflow:Loss for final step: 0.5597459.\n"
     ]
    },
    {
     "name": "stderr",
     "output_type": "stream",
     "text": [
      "INFO:tensorflow:Loss for final step: 0.5597459.\n"
     ]
    }
   ],
   "source": [
    "model = model.train(input_fn=train_input_fn, steps=100)"
   ]
  },
  {
   "cell_type": "code",
   "execution_count": 9,
   "id": "da6d52fe",
   "metadata": {},
   "outputs": [
    {
     "name": "stdout",
     "output_type": "stream",
     "text": [
      "INFO:tensorflow:Calling model_fn.\n"
     ]
    },
    {
     "name": "stderr",
     "output_type": "stream",
     "text": [
      "INFO:tensorflow:Calling model_fn.\n"
     ]
    },
    {
     "name": "stdout",
     "output_type": "stream",
     "text": [
      "INFO:tensorflow:Done calling model_fn.\n"
     ]
    },
    {
     "name": "stderr",
     "output_type": "stream",
     "text": [
      "INFO:tensorflow:Done calling model_fn.\n"
     ]
    },
    {
     "name": "stdout",
     "output_type": "stream",
     "text": [
      "INFO:tensorflow:Starting evaluation at 2021-07-12T19:11:59Z\n"
     ]
    },
    {
     "name": "stderr",
     "output_type": "stream",
     "text": [
      "INFO:tensorflow:Starting evaluation at 2021-07-12T19:11:59Z\n"
     ]
    },
    {
     "name": "stdout",
     "output_type": "stream",
     "text": [
      "INFO:tensorflow:Graph was finalized.\n"
     ]
    },
    {
     "name": "stderr",
     "output_type": "stream",
     "text": [
      "INFO:tensorflow:Graph was finalized.\n"
     ]
    },
    {
     "name": "stdout",
     "output_type": "stream",
     "text": [
      "INFO:tensorflow:Restoring parameters from /tmp/tmp94vmjr4c/model.ckpt-100\n"
     ]
    },
    {
     "name": "stderr",
     "output_type": "stream",
     "text": [
      "INFO:tensorflow:Restoring parameters from /tmp/tmp94vmjr4c/model.ckpt-100\n"
     ]
    },
    {
     "name": "stdout",
     "output_type": "stream",
     "text": [
      "INFO:tensorflow:Running local_init_op.\n"
     ]
    },
    {
     "name": "stderr",
     "output_type": "stream",
     "text": [
      "INFO:tensorflow:Running local_init_op.\n"
     ]
    },
    {
     "name": "stdout",
     "output_type": "stream",
     "text": [
      "INFO:tensorflow:Done running local_init_op.\n"
     ]
    },
    {
     "name": "stderr",
     "output_type": "stream",
     "text": [
      "INFO:tensorflow:Done running local_init_op.\n"
     ]
    },
    {
     "name": "stdout",
     "output_type": "stream",
     "text": [
      "INFO:tensorflow:Evaluation [1/10]\n"
     ]
    },
    {
     "name": "stderr",
     "output_type": "stream",
     "text": [
      "INFO:tensorflow:Evaluation [1/10]\n"
     ]
    },
    {
     "name": "stdout",
     "output_type": "stream",
     "text": [
      "INFO:tensorflow:Evaluation [2/10]\n"
     ]
    },
    {
     "name": "stderr",
     "output_type": "stream",
     "text": [
      "INFO:tensorflow:Evaluation [2/10]\n"
     ]
    },
    {
     "name": "stdout",
     "output_type": "stream",
     "text": [
      "INFO:tensorflow:Evaluation [3/10]\n"
     ]
    },
    {
     "name": "stderr",
     "output_type": "stream",
     "text": [
      "INFO:tensorflow:Evaluation [3/10]\n"
     ]
    },
    {
     "name": "stdout",
     "output_type": "stream",
     "text": [
      "INFO:tensorflow:Evaluation [4/10]\n"
     ]
    },
    {
     "name": "stderr",
     "output_type": "stream",
     "text": [
      "INFO:tensorflow:Evaluation [4/10]\n"
     ]
    },
    {
     "name": "stdout",
     "output_type": "stream",
     "text": [
      "INFO:tensorflow:Evaluation [5/10]\n"
     ]
    },
    {
     "name": "stderr",
     "output_type": "stream",
     "text": [
      "INFO:tensorflow:Evaluation [5/10]\n"
     ]
    },
    {
     "name": "stdout",
     "output_type": "stream",
     "text": [
      "INFO:tensorflow:Evaluation [6/10]\n"
     ]
    },
    {
     "name": "stderr",
     "output_type": "stream",
     "text": [
      "INFO:tensorflow:Evaluation [6/10]\n"
     ]
    },
    {
     "name": "stdout",
     "output_type": "stream",
     "text": [
      "INFO:tensorflow:Evaluation [7/10]\n"
     ]
    },
    {
     "name": "stderr",
     "output_type": "stream",
     "text": [
      "INFO:tensorflow:Evaluation [7/10]\n"
     ]
    },
    {
     "name": "stdout",
     "output_type": "stream",
     "text": [
      "INFO:tensorflow:Evaluation [8/10]\n"
     ]
    },
    {
     "name": "stderr",
     "output_type": "stream",
     "text": [
      "INFO:tensorflow:Evaluation [8/10]\n"
     ]
    },
    {
     "name": "stdout",
     "output_type": "stream",
     "text": [
      "INFO:tensorflow:Evaluation [9/10]\n"
     ]
    },
    {
     "name": "stderr",
     "output_type": "stream",
     "text": [
      "INFO:tensorflow:Evaluation [9/10]\n"
     ]
    },
    {
     "name": "stdout",
     "output_type": "stream",
     "text": [
      "INFO:tensorflow:Evaluation [10/10]\n"
     ]
    },
    {
     "name": "stderr",
     "output_type": "stream",
     "text": [
      "INFO:tensorflow:Evaluation [10/10]\n"
     ]
    },
    {
     "name": "stdout",
     "output_type": "stream",
     "text": [
      "INFO:tensorflow:Inference Time : 0.63052s\n"
     ]
    },
    {
     "name": "stderr",
     "output_type": "stream",
     "text": [
      "INFO:tensorflow:Inference Time : 0.63052s\n"
     ]
    },
    {
     "name": "stdout",
     "output_type": "stream",
     "text": [
      "INFO:tensorflow:Finished evaluation at 2021-07-12-19:12:00\n"
     ]
    },
    {
     "name": "stderr",
     "output_type": "stream",
     "text": [
      "INFO:tensorflow:Finished evaluation at 2021-07-12-19:12:00\n"
     ]
    },
    {
     "name": "stdout",
     "output_type": "stream",
     "text": [
      "INFO:tensorflow:Saving dict for global step 100: accuracy = 0.66875, accuracy_baseline = 0.59375, auc = 0.707834, auc_precision_recall = 0.6139515, average_loss = 0.6144522, global_step = 100, label/mean = 0.40625, loss = 0.6144522, precision = 0.65384614, prediction/mean = 0.37927473, recall = 0.3923077\n"
     ]
    },
    {
     "name": "stderr",
     "output_type": "stream",
     "text": [
      "INFO:tensorflow:Saving dict for global step 100: accuracy = 0.66875, accuracy_baseline = 0.59375, auc = 0.707834, auc_precision_recall = 0.6139515, average_loss = 0.6144522, global_step = 100, label/mean = 0.40625, loss = 0.6144522, precision = 0.65384614, prediction/mean = 0.37927473, recall = 0.3923077\n"
     ]
    },
    {
     "name": "stdout",
     "output_type": "stream",
     "text": [
      "INFO:tensorflow:Saving 'checkpoint_path' summary for global step 100: /tmp/tmp94vmjr4c/model.ckpt-100\n"
     ]
    },
    {
     "name": "stderr",
     "output_type": "stream",
     "text": [
      "INFO:tensorflow:Saving 'checkpoint_path' summary for global step 100: /tmp/tmp94vmjr4c/model.ckpt-100\n"
     ]
    },
    {
     "name": "stdout",
     "output_type": "stream",
     "text": [
      "accuracy : 0.66875\n",
      "accuracy_baseline : 0.59375\n",
      "auc : 0.707834\n",
      "auc_precision_recall : 0.6139515\n",
      "average_loss : 0.6144522\n",
      "label/mean : 0.40625\n",
      "loss : 0.6144522\n",
      "precision : 0.65384614\n",
      "prediction/mean : 0.37927473\n",
      "recall : 0.3923077\n",
      "global_step : 100\n"
     ]
    }
   ],
   "source": [
    "result = model.evaluate(train_input_fn, steps=10)\n",
    "\n",
    "for key, value in result.items():\n",
    "    print(key, \":\", value)\n",
    "#     print(type(value))"
   ]
  },
  {
   "cell_type": "code",
   "execution_count": 35,
   "id": "1e1d8715",
   "metadata": {},
   "outputs": [
    {
     "name": "stdout",
     "output_type": "stream",
     "text": [
      "INFO:tensorflow:Calling model_fn.\n"
     ]
    },
    {
     "name": "stderr",
     "output_type": "stream",
     "text": [
      "INFO:tensorflow:Calling model_fn.\n"
     ]
    },
    {
     "name": "stdout",
     "output_type": "stream",
     "text": [
      "INFO:tensorflow:Done calling model_fn.\n"
     ]
    },
    {
     "name": "stderr",
     "output_type": "stream",
     "text": [
      "INFO:tensorflow:Done calling model_fn.\n"
     ]
    },
    {
     "name": "stdout",
     "output_type": "stream",
     "text": [
      "INFO:tensorflow:Graph was finalized.\n"
     ]
    },
    {
     "name": "stderr",
     "output_type": "stream",
     "text": [
      "INFO:tensorflow:Graph was finalized.\n"
     ]
    },
    {
     "name": "stdout",
     "output_type": "stream",
     "text": [
      "INFO:tensorflow:Restoring parameters from /tmp/tmpze1xf4dq/model.ckpt-100\n"
     ]
    },
    {
     "name": "stderr",
     "output_type": "stream",
     "text": [
      "INFO:tensorflow:Restoring parameters from /tmp/tmpze1xf4dq/model.ckpt-100\n"
     ]
    },
    {
     "name": "stdout",
     "output_type": "stream",
     "text": [
      "INFO:tensorflow:Running local_init_op.\n"
     ]
    },
    {
     "name": "stderr",
     "output_type": "stream",
     "text": [
      "INFO:tensorflow:Running local_init_op.\n"
     ]
    },
    {
     "name": "stdout",
     "output_type": "stream",
     "text": [
      "INFO:tensorflow:Done running local_init_op.\n"
     ]
    },
    {
     "name": "stderr",
     "output_type": "stream",
     "text": [
      "INFO:tensorflow:Done running local_init_op.\n"
     ]
    },
    {
     "name": "stdout",
     "output_type": "stream",
     "text": [
      "logits : [-0.34507716]\n",
      "<class 'numpy.ndarray'>\n",
      "logistic : [0.4145767]\n",
      "<class 'numpy.ndarray'>\n",
      "probabilities : [0.5854233 0.4145767]\n",
      "<class 'numpy.ndarray'>\n",
      "class_ids : [0]\n",
      "<class 'numpy.ndarray'>\n",
      "classes : [b'0']\n",
      "<class 'numpy.ndarray'>\n",
      "all_class_ids : [0 1]\n",
      "<class 'numpy.ndarray'>\n",
      "all_classes : [b'0' b'1']\n",
      "<class 'numpy.ndarray'>\n",
      "logits : [-1.3106523]\n",
      "<class 'numpy.ndarray'>\n",
      "logistic : [0.21237773]\n",
      "<class 'numpy.ndarray'>\n",
      "probabilities : [0.7876223  0.21237771]\n",
      "<class 'numpy.ndarray'>\n",
      "class_ids : [0]\n",
      "<class 'numpy.ndarray'>\n",
      "classes : [b'0']\n",
      "<class 'numpy.ndarray'>\n",
      "all_class_ids : [0 1]\n",
      "<class 'numpy.ndarray'>\n",
      "all_classes : [b'0' b'1']\n",
      "<class 'numpy.ndarray'>\n",
      "logits : [0.46289366]\n",
      "<class 'numpy.ndarray'>\n",
      "logistic : [0.6137004]\n",
      "<class 'numpy.ndarray'>\n",
      "probabilities : [0.38629958 0.6137004 ]\n",
      "<class 'numpy.ndarray'>\n",
      "class_ids : [1]\n",
      "<class 'numpy.ndarray'>\n",
      "classes : [b'1']\n",
      "<class 'numpy.ndarray'>\n",
      "all_class_ids : [0 1]\n",
      "<class 'numpy.ndarray'>\n",
      "all_classes : [b'0' b'1']\n",
      "<class 'numpy.ndarray'>\n"
     ]
    }
   ],
   "source": [
    "i = 0\n",
    "for pred in model.predict(train_input_fn):\n",
    "    i += 1\n",
    "    for key, value in pred.items():\n",
    "        print(key, \":\", value)\n",
    "        print(type(value))\n",
    "    if i == 3:\n",
    "        break"
   ]
  },
  {
   "cell_type": "code",
   "execution_count": 36,
   "id": "7e05acd1",
   "metadata": {},
   "outputs": [],
   "source": [
    "predictions = model.predict(train_input_fn)"
   ]
  },
  {
   "cell_type": "code",
   "execution_count": 41,
   "id": "9af69251",
   "metadata": {},
   "outputs": [
    {
     "name": "stdout",
     "output_type": "stream",
     "text": [
      "{'logits': array([-0.58386], dtype=float32), 'logistic': array([0.35804492], dtype=float32), 'probabilities': array([0.6419551, 0.3580449], dtype=float32), 'class_ids': array([0]), 'classes': array([b'0'], dtype=object), 'all_class_ids': array([0, 1], dtype=int32), 'all_classes': array([b'0', b'1'], dtype=object)}\n"
     ]
    }
   ],
   "source": [
    "for pred in predictions:\n",
    "    print(pred)\n",
    "    break"
   ]
  },
  {
   "cell_type": "code",
   "execution_count": 3,
   "id": "fab24269",
   "metadata": {},
   "outputs": [
    {
     "data": {
      "text/plain": [
       "-1.1044600736825148"
      ]
     },
     "execution_count": 3,
     "metadata": {},
     "output_type": "execute_result"
    }
   ],
   "source": [
    "import numpy as np\n",
    "\n",
    "np.log(0.33138976)"
   ]
  },
  {
   "cell_type": "code",
   "execution_count": 4,
   "id": "3a7b8af6",
   "metadata": {},
   "outputs": [
    {
     "ename": "ModuleNotFoundError",
     "evalue": "No module named 'demo'",
     "output_type": "error",
     "traceback": [
      "\u001b[0;31m---------------------------------------------------------------------------\u001b[0m",
      "\u001b[0;31mModuleNotFoundError\u001b[0m                       Traceback (most recent call last)",
      "\u001b[0;32m<ipython-input-4-7bd94e90cd8f>\u001b[0m in \u001b[0;36m<module>\u001b[0;34m\u001b[0m\n\u001b[0;32m----> 1\u001b[0;31m \u001b[0;32mfrom\u001b[0m \u001b[0mdemo\u001b[0m \u001b[0;32mimport\u001b[0m \u001b[0mload_logreg\u001b[0m\u001b[0;34m\u001b[0m\u001b[0;34m\u001b[0m\u001b[0m\n\u001b[0m\u001b[1;32m      2\u001b[0m \u001b[0;34m\u001b[0m\u001b[0m\n\u001b[1;32m      3\u001b[0m \u001b[0mlr_scaler\u001b[0m\u001b[0;34m,\u001b[0m \u001b[0mlr_model\u001b[0m \u001b[0;34m=\u001b[0m \u001b[0mload_logreg\u001b[0m\u001b[0;34m(\u001b[0m\u001b[0;34m)\u001b[0m\u001b[0;34m\u001b[0m\u001b[0;34m\u001b[0m\u001b[0m\n",
      "\u001b[0;31mModuleNotFoundError\u001b[0m: No module named 'demo'"
     ]
    }
   ],
   "source": [
    "from demo import load_logreg\n",
    "\n",
    "lr_scaler, lr_model = load_logreg()"
   ]
  },
  {
   "cell_type": "code",
   "execution_count": 47,
   "id": "e0780e2b",
   "metadata": {},
   "outputs": [],
   "source": [
    "def parse_csv(rows_string_tensor):\n",
    "    \"\"\"Takes the string input tensor and returns a dict of rank-2 tensors.\"\"\"\n",
    "\n",
    "    csv_columns = ['sepal-length', 'sepal-width', 'petal-length', 'petal-width']\n",
    "    csv_column_defaults = [[0.0], [0.0], [0.0], [0.0]]\n",
    "\n",
    "    # Takes a rank-1 tensor and converts it into rank-2 tensor\n",
    "    # Example if the data is ['csv,line,1', 'csv,line,2', ..] to\n",
    "    # [['csv,line,1'], ['csv,line,2']] which after parsing will result in a\n",
    "    # tuple of tensors: [['csv'], ['csv']], [['line'], ['line']], [[1], [2]]\n",
    "    row_columns = tf.expand_dims(rows_string_tensor, -1)\n",
    "    columns = tf.io.decode_csv(\n",
    "        records=row_columns, record_defaults=csv_column_defaults)\n",
    "    features = dict(zip(csv_columns, columns))\n",
    "    return features"
   ]
  },
  {
   "cell_type": "code",
   "execution_count": 49,
   "id": "10aac571",
   "metadata": {},
   "outputs": [
    {
     "ename": "ValueError",
     "evalue": "Attempt to convert a value (<_io.BufferedReader name='data/inputs.csv'>) with an unsupported type (<class '_io.BufferedReader'>) to a Tensor.",
     "output_type": "error",
     "traceback": [
      "\u001b[0;31m---------------------------------------------------------------------------\u001b[0m",
      "\u001b[0;31mValueError\u001b[0m                                Traceback (most recent call last)",
      "\u001b[0;32m<ipython-input-49-331dfcd70c1c>\u001b[0m in \u001b[0;36m<module>\u001b[0;34m\u001b[0m\n\u001b[1;32m      1\u001b[0m \u001b[0;32mwith\u001b[0m \u001b[0mopen\u001b[0m\u001b[0;34m(\u001b[0m\u001b[0;34m'data/inputs.csv'\u001b[0m\u001b[0;34m,\u001b[0m \u001b[0;34m'rb'\u001b[0m\u001b[0;34m)\u001b[0m \u001b[0;32mas\u001b[0m \u001b[0minput\u001b[0m\u001b[0;34m:\u001b[0m\u001b[0;34m\u001b[0m\u001b[0;34m\u001b[0m\u001b[0m\n\u001b[0;32m----> 2\u001b[0;31m     \u001b[0minput_tensor\u001b[0m \u001b[0;34m=\u001b[0m \u001b[0mtf\u001b[0m\u001b[0;34m.\u001b[0m\u001b[0mconstant\u001b[0m\u001b[0;34m(\u001b[0m\u001b[0minput\u001b[0m\u001b[0;34m)\u001b[0m\u001b[0;34m\u001b[0m\u001b[0;34m\u001b[0m\u001b[0m\n\u001b[0m\u001b[1;32m      3\u001b[0m     \u001b[0mparse_csv\u001b[0m\u001b[0;34m(\u001b[0m\u001b[0minput_tensor\u001b[0m\u001b[0;34m)\u001b[0m\u001b[0;34m\u001b[0m\u001b[0;34m\u001b[0m\u001b[0m\n",
      "\u001b[0;32m~/anaconda3/envs/mlops/lib/python3.7/site-packages/tensorflow/python/framework/constant_op.py\u001b[0m in \u001b[0;36mconstant\u001b[0;34m(value, dtype, shape, name)\u001b[0m\n\u001b[1;32m    263\u001b[0m   \"\"\"\n\u001b[1;32m    264\u001b[0m   return _constant_impl(value, dtype, shape, name, verify_shape=False,\n\u001b[0;32m--> 265\u001b[0;31m                         allow_broadcast=True)\n\u001b[0m\u001b[1;32m    266\u001b[0m \u001b[0;34m\u001b[0m\u001b[0m\n\u001b[1;32m    267\u001b[0m \u001b[0;34m\u001b[0m\u001b[0m\n",
      "\u001b[0;32m~/anaconda3/envs/mlops/lib/python3.7/site-packages/tensorflow/python/framework/constant_op.py\u001b[0m in \u001b[0;36m_constant_impl\u001b[0;34m(value, dtype, shape, name, verify_shape, allow_broadcast)\u001b[0m\n\u001b[1;32m    274\u001b[0m       \u001b[0;32mwith\u001b[0m \u001b[0mtrace\u001b[0m\u001b[0;34m.\u001b[0m\u001b[0mTrace\u001b[0m\u001b[0;34m(\u001b[0m\u001b[0;34m\"tf.constant\"\u001b[0m\u001b[0;34m)\u001b[0m\u001b[0;34m:\u001b[0m\u001b[0;34m\u001b[0m\u001b[0;34m\u001b[0m\u001b[0m\n\u001b[1;32m    275\u001b[0m         \u001b[0;32mreturn\u001b[0m \u001b[0m_constant_eager_impl\u001b[0m\u001b[0;34m(\u001b[0m\u001b[0mctx\u001b[0m\u001b[0;34m,\u001b[0m \u001b[0mvalue\u001b[0m\u001b[0;34m,\u001b[0m \u001b[0mdtype\u001b[0m\u001b[0;34m,\u001b[0m \u001b[0mshape\u001b[0m\u001b[0;34m,\u001b[0m \u001b[0mverify_shape\u001b[0m\u001b[0;34m)\u001b[0m\u001b[0;34m\u001b[0m\u001b[0;34m\u001b[0m\u001b[0m\n\u001b[0;32m--> 276\u001b[0;31m     \u001b[0;32mreturn\u001b[0m \u001b[0m_constant_eager_impl\u001b[0m\u001b[0;34m(\u001b[0m\u001b[0mctx\u001b[0m\u001b[0;34m,\u001b[0m \u001b[0mvalue\u001b[0m\u001b[0;34m,\u001b[0m \u001b[0mdtype\u001b[0m\u001b[0;34m,\u001b[0m \u001b[0mshape\u001b[0m\u001b[0;34m,\u001b[0m \u001b[0mverify_shape\u001b[0m\u001b[0;34m)\u001b[0m\u001b[0;34m\u001b[0m\u001b[0;34m\u001b[0m\u001b[0m\n\u001b[0m\u001b[1;32m    277\u001b[0m \u001b[0;34m\u001b[0m\u001b[0m\n\u001b[1;32m    278\u001b[0m   \u001b[0mg\u001b[0m \u001b[0;34m=\u001b[0m \u001b[0mops\u001b[0m\u001b[0;34m.\u001b[0m\u001b[0mget_default_graph\u001b[0m\u001b[0;34m(\u001b[0m\u001b[0;34m)\u001b[0m\u001b[0;34m\u001b[0m\u001b[0;34m\u001b[0m\u001b[0m\n",
      "\u001b[0;32m~/anaconda3/envs/mlops/lib/python3.7/site-packages/tensorflow/python/framework/constant_op.py\u001b[0m in \u001b[0;36m_constant_eager_impl\u001b[0;34m(ctx, value, dtype, shape, verify_shape)\u001b[0m\n\u001b[1;32m    299\u001b[0m \u001b[0;32mdef\u001b[0m \u001b[0m_constant_eager_impl\u001b[0m\u001b[0;34m(\u001b[0m\u001b[0mctx\u001b[0m\u001b[0;34m,\u001b[0m \u001b[0mvalue\u001b[0m\u001b[0;34m,\u001b[0m \u001b[0mdtype\u001b[0m\u001b[0;34m,\u001b[0m \u001b[0mshape\u001b[0m\u001b[0;34m,\u001b[0m \u001b[0mverify_shape\u001b[0m\u001b[0;34m)\u001b[0m\u001b[0;34m:\u001b[0m\u001b[0;34m\u001b[0m\u001b[0;34m\u001b[0m\u001b[0m\n\u001b[1;32m    300\u001b[0m   \u001b[0;34m\"\"\"Implementation of eager constant.\"\"\"\u001b[0m\u001b[0;34m\u001b[0m\u001b[0;34m\u001b[0m\u001b[0m\n\u001b[0;32m--> 301\u001b[0;31m   \u001b[0mt\u001b[0m \u001b[0;34m=\u001b[0m \u001b[0mconvert_to_eager_tensor\u001b[0m\u001b[0;34m(\u001b[0m\u001b[0mvalue\u001b[0m\u001b[0;34m,\u001b[0m \u001b[0mctx\u001b[0m\u001b[0;34m,\u001b[0m \u001b[0mdtype\u001b[0m\u001b[0;34m)\u001b[0m\u001b[0;34m\u001b[0m\u001b[0;34m\u001b[0m\u001b[0m\n\u001b[0m\u001b[1;32m    302\u001b[0m   \u001b[0;32mif\u001b[0m \u001b[0mshape\u001b[0m \u001b[0;32mis\u001b[0m \u001b[0;32mNone\u001b[0m\u001b[0;34m:\u001b[0m\u001b[0;34m\u001b[0m\u001b[0;34m\u001b[0m\u001b[0m\n\u001b[1;32m    303\u001b[0m     \u001b[0;32mreturn\u001b[0m \u001b[0mt\u001b[0m\u001b[0;34m\u001b[0m\u001b[0;34m\u001b[0m\u001b[0m\n",
      "\u001b[0;32m~/anaconda3/envs/mlops/lib/python3.7/site-packages/tensorflow/python/framework/constant_op.py\u001b[0m in \u001b[0;36mconvert_to_eager_tensor\u001b[0;34m(value, ctx, dtype)\u001b[0m\n\u001b[1;32m     96\u001b[0m       \u001b[0mdtype\u001b[0m \u001b[0;34m=\u001b[0m \u001b[0mdtypes\u001b[0m\u001b[0;34m.\u001b[0m\u001b[0mas_dtype\u001b[0m\u001b[0;34m(\u001b[0m\u001b[0mdtype\u001b[0m\u001b[0;34m)\u001b[0m\u001b[0;34m.\u001b[0m\u001b[0mas_datatype_enum\u001b[0m\u001b[0;34m\u001b[0m\u001b[0;34m\u001b[0m\u001b[0m\n\u001b[1;32m     97\u001b[0m   \u001b[0mctx\u001b[0m\u001b[0;34m.\u001b[0m\u001b[0mensure_initialized\u001b[0m\u001b[0;34m(\u001b[0m\u001b[0;34m)\u001b[0m\u001b[0;34m\u001b[0m\u001b[0;34m\u001b[0m\u001b[0m\n\u001b[0;32m---> 98\u001b[0;31m   \u001b[0;32mreturn\u001b[0m \u001b[0mops\u001b[0m\u001b[0;34m.\u001b[0m\u001b[0mEagerTensor\u001b[0m\u001b[0;34m(\u001b[0m\u001b[0mvalue\u001b[0m\u001b[0;34m,\u001b[0m \u001b[0mctx\u001b[0m\u001b[0;34m.\u001b[0m\u001b[0mdevice_name\u001b[0m\u001b[0;34m,\u001b[0m \u001b[0mdtype\u001b[0m\u001b[0;34m)\u001b[0m\u001b[0;34m\u001b[0m\u001b[0;34m\u001b[0m\u001b[0m\n\u001b[0m\u001b[1;32m     99\u001b[0m \u001b[0;34m\u001b[0m\u001b[0m\n\u001b[1;32m    100\u001b[0m \u001b[0;34m\u001b[0m\u001b[0m\n",
      "\u001b[0;31mValueError\u001b[0m: Attempt to convert a value (<_io.BufferedReader name='data/inputs.csv'>) with an unsupported type (<class '_io.BufferedReader'>) to a Tensor."
     ]
    }
   ],
   "source": [
    "with open('data/inputs.csv') as input:\n",
    "    for "
   ]
  },
  {
   "cell_type": "code",
   "execution_count": null,
   "id": "24bbc23e",
   "metadata": {},
   "outputs": [],
   "source": [
    "lr_model.predict(lr_scaler.transform())"
   ]
  },
  {
   "cell_type": "code",
   "execution_count": null,
   "id": "0416b852",
   "metadata": {},
   "outputs": [],
   "source": []
  },
  {
   "cell_type": "code",
   "execution_count": 5,
   "id": "dab1b571",
   "metadata": {},
   "outputs": [],
   "source": [
    "data_val_run_id = '43059ae1acd145048759f31581299eea'"
   ]
  },
  {
   "cell_type": "code",
   "execution_count": 6,
   "id": "3fc78c39",
   "metadata": {},
   "outputs": [
    {
     "name": "stdout",
     "output_type": "stream",
     "text": [
      "Loading configuration from:  config.yaml\n",
      "Loading configuration from:  /home/colin/projects/docker_projects/mlops/framework/config_files/local.yaml\n",
      "Loading config restriction from:  /home/colin/projects/docker_projects/mlops/framework/config_files/dev_restricted.yaml\n",
      "Utils.load_yaml_file(): File not found - /home/colin/projects/docker_projects/mlops/framework/config_files/dev_restricted.yaml\n"
     ]
    },
    {
     "data": {
      "text/plain": [
       "configuration(data_path=configuration(data_store='./data/', inbound='inbound', outbound='outbound', label_data='label_data'), format=configuration(date='yyyymmdd'), model=configuration(name='examples.iris', ct_pipeline=configuration(components=configuration(data_gen=configuration(url='https://raw.githubusercontent.com/jbrownlee/Datasets/master/iris.csv', x_headers=['sepal-length', 'sepal-width', 'petal-length', 'petal-width'], y_header='species', test_size=0.2), data_validation=None, feature_transform=configuration(transform_approach='min-max'), logistic_regression=None, linear_discriminant_analysis=None, model_eval=configuration(compare_metric='test_accuracy_score'), model_pub=configuration(model_path='iris_model', model_registry_name='IRIS')), dag=configuration(data_gen=['data_validation', 'feature_transform', 'logistic_regression', 'linear_discriminant_analysis', 'model_pub'], data_validation=['model_pub'], feature_transform=['logistic_regression', 'linear_discriminant_analysis', 'model_pub'], logistic_regression=['model_eval'], linear_discriminant_analysis=['model_eval'], model_eval=['model_pub']))), serving=configuration(model_name='IRIS'), mlflow=configuration(exp_id='production', tracking_uri='http://127.0.0.1:5000', registry_uri='http://127.0.0.1:5000'))"
      ]
     },
     "execution_count": 6,
     "metadata": {},
     "output_type": "execute_result"
    }
   ],
   "source": [
    "from examples.iris.data_validation import helper as dv_helper\n",
    "from mlops.config import Config as conf\n",
    "\n",
    "conf.load(\"config.yaml\")"
   ]
  },
  {
   "cell_type": "code",
   "execution_count": 7,
   "id": "20325427",
   "metadata": {},
   "outputs": [],
   "source": [
    "from mlops.utils.mlflowutils import MlflowUtils\n",
    "MlflowUtils.init_mlflow_client(\n",
    "    conf.settings.mlflow.tracking_uri,\n",
    "    conf.settings.mlflow.registry_uri\n",
    ")"
   ]
  },
  {
   "cell_type": "code",
   "execution_count": 36,
   "id": "302cc05a",
   "metadata": {},
   "outputs": [
    {
     "ename": "NotFoundError",
     "evalue": "/home/colin/mlflow_artifacts/1/43059ae1acd145048759f31581299eea/artifacts/trainset_stat.pbtxt; No such file or directory",
     "output_type": "error",
     "traceback": [
      "\u001b[0;31m---------------------------------------------------------------------------\u001b[0m",
      "\u001b[0;31mNotFoundError\u001b[0m                             Traceback (most recent call last)",
      "\u001b[0;32m<ipython-input-36-c4b1ddc8c238>\u001b[0m in \u001b[0;36m<module>\u001b[0;34m\u001b[0m\n\u001b[1;32m      1\u001b[0m \u001b[0mdata_schema\u001b[0m \u001b[0;34m=\u001b[0m \u001b[0mdv_helper\u001b[0m\u001b[0;34m.\u001b[0m\u001b[0mget_schema\u001b[0m\u001b[0;34m(\u001b[0m\u001b[0mdata_val_run_id\u001b[0m\u001b[0;34m)\u001b[0m\u001b[0;34m\u001b[0m\u001b[0;34m\u001b[0m\u001b[0m\n\u001b[0;32m----> 2\u001b[0;31m \u001b[0mstats\u001b[0m \u001b[0;34m=\u001b[0m \u001b[0mdv_helper\u001b[0m\u001b[0;34m.\u001b[0m\u001b[0mget_trainset_stat\u001b[0m\u001b[0;34m(\u001b[0m\u001b[0mdata_val_run_id\u001b[0m\u001b[0;34m)\u001b[0m\u001b[0;34m\u001b[0m\u001b[0;34m\u001b[0m\u001b[0m\n\u001b[0m",
      "\u001b[0;32m~/projects/docker_projects/mlops/examples/notebooks/../../examples/iris/data_validation/helper.py\u001b[0m in \u001b[0;36mget_trainset_stat\u001b[0;34m(run_id)\u001b[0m\n\u001b[1;32m     18\u001b[0m     \u001b[0m_assert_ops_type\u001b[0m\u001b[0;34m(\u001b[0m\u001b[0mrun_id\u001b[0m\u001b[0;34m)\u001b[0m\u001b[0;34m\u001b[0m\u001b[0;34m\u001b[0m\u001b[0m\n\u001b[1;32m     19\u001b[0m     \u001b[0mtrainset_stat_txt\u001b[0m \u001b[0;34m=\u001b[0m \u001b[0mMlflowUtils\u001b[0m\u001b[0;34m.\u001b[0m\u001b[0mget_artifact_path\u001b[0m\u001b[0;34m(\u001b[0m\u001b[0mrun_id\u001b[0m\u001b[0;34m,\u001b[0m \u001b[0;34m\"trainset_stat.pbtxt\"\u001b[0m\u001b[0;34m)\u001b[0m\u001b[0;34m\u001b[0m\u001b[0;34m\u001b[0m\u001b[0m\n\u001b[0;32m---> 20\u001b[0;31m     \u001b[0;32mreturn\u001b[0m \u001b[0mtfdv\u001b[0m\u001b[0;34m.\u001b[0m\u001b[0mload_stats_text\u001b[0m\u001b[0;34m(\u001b[0m\u001b[0mtrainset_stat_txt\u001b[0m\u001b[0;34m)\u001b[0m\u001b[0;34m\u001b[0m\u001b[0;34m\u001b[0m\u001b[0m\n\u001b[0m",
      "\u001b[0;32m~/anaconda3/envs/mlops/lib/python3.7/site-packages/tensorflow_data_validation/utils/stats_util.py\u001b[0m in \u001b[0;36mload_stats_text\u001b[0;34m(input_path)\u001b[0m\n\u001b[1;32m    213\u001b[0m   \"\"\"\n\u001b[1;32m    214\u001b[0m   \u001b[0mstats_proto\u001b[0m \u001b[0;34m=\u001b[0m \u001b[0mstatistics_pb2\u001b[0m\u001b[0;34m.\u001b[0m\u001b[0mDatasetFeatureStatisticsList\u001b[0m\u001b[0;34m(\u001b[0m\u001b[0;34m)\u001b[0m\u001b[0;34m\u001b[0m\u001b[0;34m\u001b[0m\u001b[0m\n\u001b[0;32m--> 215\u001b[0;31m   \u001b[0mstats_text\u001b[0m \u001b[0;34m=\u001b[0m \u001b[0mio_util\u001b[0m\u001b[0;34m.\u001b[0m\u001b[0mread_file_to_string\u001b[0m\u001b[0;34m(\u001b[0m\u001b[0minput_path\u001b[0m\u001b[0;34m)\u001b[0m\u001b[0;34m\u001b[0m\u001b[0;34m\u001b[0m\u001b[0m\n\u001b[0m\u001b[1;32m    216\u001b[0m   \u001b[0mtext_format\u001b[0m\u001b[0;34m.\u001b[0m\u001b[0mParse\u001b[0m\u001b[0;34m(\u001b[0m\u001b[0mstats_text\u001b[0m\u001b[0;34m,\u001b[0m \u001b[0mstats_proto\u001b[0m\u001b[0;34m)\u001b[0m\u001b[0;34m\u001b[0m\u001b[0;34m\u001b[0m\u001b[0m\n\u001b[1;32m    217\u001b[0m   \u001b[0;32mreturn\u001b[0m \u001b[0mstats_proto\u001b[0m\u001b[0;34m\u001b[0m\u001b[0;34m\u001b[0m\u001b[0m\n",
      "\u001b[0;32m~/anaconda3/envs/mlops/lib/python3.7/site-packages/tensorflow_data_validation/utils/io_util.py\u001b[0m in \u001b[0;36mread_file_to_string\u001b[0;34m(filename, binary_mode)\u001b[0m\n\u001b[1;32m     51\u001b[0m   \u001b[0;32melse\u001b[0m\u001b[0;34m:\u001b[0m\u001b[0;34m\u001b[0m\u001b[0;34m\u001b[0m\u001b[0m\n\u001b[1;32m     52\u001b[0m     \u001b[0mf\u001b[0m \u001b[0;34m=\u001b[0m \u001b[0mtf\u001b[0m\u001b[0;34m.\u001b[0m\u001b[0mio\u001b[0m\u001b[0;34m.\u001b[0m\u001b[0mgfile\u001b[0m\u001b[0;34m.\u001b[0m\u001b[0mGFile\u001b[0m\u001b[0;34m(\u001b[0m\u001b[0mfilename\u001b[0m\u001b[0;34m,\u001b[0m \u001b[0mmode\u001b[0m\u001b[0;34m=\u001b[0m\u001b[0;34m\"r\"\u001b[0m\u001b[0;34m)\u001b[0m\u001b[0;34m\u001b[0m\u001b[0;34m\u001b[0m\u001b[0m\n\u001b[0;32m---> 53\u001b[0;31m   \u001b[0;32mreturn\u001b[0m \u001b[0mf\u001b[0m\u001b[0;34m.\u001b[0m\u001b[0mread\u001b[0m\u001b[0;34m(\u001b[0m\u001b[0;34m)\u001b[0m\u001b[0;34m\u001b[0m\u001b[0;34m\u001b[0m\u001b[0m\n\u001b[0m",
      "\u001b[0;32m~/anaconda3/envs/mlops/lib/python3.7/site-packages/tensorflow/python/lib/io/file_io.py\u001b[0m in \u001b[0;36mread\u001b[0;34m(self, n)\u001b[0m\n\u001b[1;32m    115\u001b[0m       \u001b[0mstring\u001b[0m \u001b[0;32mif\u001b[0m \u001b[0;32min\u001b[0m \u001b[0mstring\u001b[0m \u001b[0;34m(\u001b[0m\u001b[0mregular\u001b[0m\u001b[0;34m)\u001b[0m \u001b[0mmode\u001b[0m\u001b[0;34m.\u001b[0m\u001b[0;34m\u001b[0m\u001b[0;34m\u001b[0m\u001b[0m\n\u001b[1;32m    116\u001b[0m     \"\"\"\n\u001b[0;32m--> 117\u001b[0;31m     \u001b[0mself\u001b[0m\u001b[0;34m.\u001b[0m\u001b[0m_preread_check\u001b[0m\u001b[0;34m(\u001b[0m\u001b[0;34m)\u001b[0m\u001b[0;34m\u001b[0m\u001b[0;34m\u001b[0m\u001b[0m\n\u001b[0m\u001b[1;32m    118\u001b[0m     \u001b[0;32mif\u001b[0m \u001b[0mn\u001b[0m \u001b[0;34m==\u001b[0m \u001b[0;34m-\u001b[0m\u001b[0;36m1\u001b[0m\u001b[0;34m:\u001b[0m\u001b[0;34m\u001b[0m\u001b[0;34m\u001b[0m\u001b[0m\n\u001b[1;32m    119\u001b[0m       \u001b[0mlength\u001b[0m \u001b[0;34m=\u001b[0m \u001b[0mself\u001b[0m\u001b[0;34m.\u001b[0m\u001b[0msize\u001b[0m\u001b[0;34m(\u001b[0m\u001b[0;34m)\u001b[0m \u001b[0;34m-\u001b[0m \u001b[0mself\u001b[0m\u001b[0;34m.\u001b[0m\u001b[0mtell\u001b[0m\u001b[0;34m(\u001b[0m\u001b[0;34m)\u001b[0m\u001b[0;34m\u001b[0m\u001b[0;34m\u001b[0m\u001b[0m\n",
      "\u001b[0;32m~/anaconda3/envs/mlops/lib/python3.7/site-packages/tensorflow/python/lib/io/file_io.py\u001b[0m in \u001b[0;36m_preread_check\u001b[0;34m(self)\u001b[0m\n\u001b[1;32m     78\u001b[0m                                            \"File isn't open for reading\")\n\u001b[1;32m     79\u001b[0m       self._read_buf = _pywrap_file_io.BufferedInputStream(\n\u001b[0;32m---> 80\u001b[0;31m           compat.path_to_str(self.__name), 1024 * 512)\n\u001b[0m\u001b[1;32m     81\u001b[0m \u001b[0;34m\u001b[0m\u001b[0m\n\u001b[1;32m     82\u001b[0m   \u001b[0;32mdef\u001b[0m \u001b[0m_prewrite_check\u001b[0m\u001b[0;34m(\u001b[0m\u001b[0mself\u001b[0m\u001b[0;34m)\u001b[0m\u001b[0;34m:\u001b[0m\u001b[0;34m\u001b[0m\u001b[0;34m\u001b[0m\u001b[0m\n",
      "\u001b[0;31mNotFoundError\u001b[0m: /home/colin/mlflow_artifacts/1/43059ae1acd145048759f31581299eea/artifacts/trainset_stat.pbtxt; No such file or directory"
     ]
    }
   ],
   "source": [
    "data_schema = dv_helper.get_schema(data_val_run_id)\n",
    "stats = dv_helper.get_trainset_stat(data_val_run_id)"
   ]
  },
  {
   "cell_type": "code",
   "execution_count": 2,
   "id": "a15eb8cc",
   "metadata": {},
   "outputs": [
    {
     "ename": "NameError",
     "evalue": "name 'data_schema' is not defined",
     "output_type": "error",
     "traceback": [
      "\u001b[0;31m---------------------------------------------------------------------------\u001b[0m",
      "\u001b[0;31mNameError\u001b[0m                                 Traceback (most recent call last)",
      "\u001b[0;32m<ipython-input-2-31205ddd80ab>\u001b[0m in \u001b[0;36m<module>\u001b[0;34m\u001b[0m\n\u001b[1;32m      2\u001b[0m \u001b[0;34m\u001b[0m\u001b[0m\n\u001b[1;32m      3\u001b[0m \u001b[0;34m\u001b[0m\u001b[0m\n\u001b[0;32m----> 4\u001b[0;31m \u001b[0;32mfor\u001b[0m \u001b[0mf\u001b[0m \u001b[0;32min\u001b[0m \u001b[0mdata_schema\u001b[0m\u001b[0;34m.\u001b[0m\u001b[0mfeature\u001b[0m\u001b[0;34m:\u001b[0m\u001b[0;34m\u001b[0m\u001b[0;34m\u001b[0m\u001b[0m\n\u001b[0m\u001b[1;32m      5\u001b[0m     \u001b[0mprint\u001b[0m\u001b[0;34m(\u001b[0m\u001b[0mf\u001b[0m\u001b[0;34m.\u001b[0m\u001b[0mname\u001b[0m\u001b[0;34m,\u001b[0m \u001b[0;34m(\u001b[0m\u001b[0mf\u001b[0m\u001b[0;34m.\u001b[0m\u001b[0mtype\u001b[0m\u001b[0;34m)\u001b[0m\u001b[0;34m)\u001b[0m\u001b[0;34m\u001b[0m\u001b[0;34m\u001b[0m\u001b[0m\n",
      "\u001b[0;31mNameError\u001b[0m: name 'data_schema' is not defined"
     ]
    }
   ],
   "source": [
    "import tensorflow_data_validation as tfdv\n",
    "\n",
    "\n",
    "for f in data_schema.feature:\n",
    "    print(f.name, (f.type))"
   ]
  },
  {
   "cell_type": "code",
   "execution_count": 30,
   "id": "409585db",
   "metadata": {},
   "outputs": [
    {
     "data": {
      "text/plain": [
       "['Iris-setosa', 'Iris-versicolor', 'Iris-virginica']"
      ]
     },
     "execution_count": 30,
     "metadata": {},
     "output_type": "execute_result"
    }
   ],
   "source": [
    "data_schema.string_domain[0].value"
   ]
  },
  {
   "cell_type": "code",
   "execution_count": 33,
   "id": "93a1399b",
   "metadata": {},
   "outputs": [
    {
     "data": {
      "text/html": [
       "<div>\n",
       "<style scoped>\n",
       "    .dataframe tbody tr th:only-of-type {\n",
       "        vertical-align: middle;\n",
       "    }\n",
       "\n",
       "    .dataframe tbody tr th {\n",
       "        vertical-align: top;\n",
       "    }\n",
       "\n",
       "    .dataframe thead th {\n",
       "        text-align: right;\n",
       "    }\n",
       "</style>\n",
       "<table border=\"1\" class=\"dataframe\">\n",
       "  <thead>\n",
       "    <tr style=\"text-align: right;\">\n",
       "      <th></th>\n",
       "      <th>Type</th>\n",
       "      <th>Presence</th>\n",
       "      <th>Valency</th>\n",
       "      <th>Domain</th>\n",
       "    </tr>\n",
       "    <tr>\n",
       "      <th>Feature name</th>\n",
       "      <th></th>\n",
       "      <th></th>\n",
       "      <th></th>\n",
       "      <th></th>\n",
       "    </tr>\n",
       "  </thead>\n",
       "  <tbody>\n",
       "    <tr>\n",
       "      <th>'sepal-length'</th>\n",
       "      <td>FLOAT</td>\n",
       "      <td>required</td>\n",
       "      <td></td>\n",
       "      <td>-</td>\n",
       "    </tr>\n",
       "    <tr>\n",
       "      <th>'sepal-width'</th>\n",
       "      <td>FLOAT</td>\n",
       "      <td>required</td>\n",
       "      <td></td>\n",
       "      <td>-</td>\n",
       "    </tr>\n",
       "    <tr>\n",
       "      <th>'petal-length'</th>\n",
       "      <td>FLOAT</td>\n",
       "      <td>required</td>\n",
       "      <td></td>\n",
       "      <td>-</td>\n",
       "    </tr>\n",
       "    <tr>\n",
       "      <th>'petal-width'</th>\n",
       "      <td>FLOAT</td>\n",
       "      <td>required</td>\n",
       "      <td></td>\n",
       "      <td>-</td>\n",
       "    </tr>\n",
       "    <tr>\n",
       "      <th>'species'</th>\n",
       "      <td>STRING</td>\n",
       "      <td>required</td>\n",
       "      <td></td>\n",
       "      <td>'species'</td>\n",
       "    </tr>\n",
       "  </tbody>\n",
       "</table>\n",
       "</div>"
      ],
      "text/plain": [
       "                  Type  Presence Valency     Domain\n",
       "Feature name                                       \n",
       "'sepal-length'   FLOAT  required                  -\n",
       "'sepal-width'    FLOAT  required                  -\n",
       "'petal-length'   FLOAT  required                  -\n",
       "'petal-width'    FLOAT  required                  -\n",
       "'species'       STRING  required          'species'"
      ]
     },
     "metadata": {},
     "output_type": "display_data"
    },
    {
     "name": "stderr",
     "output_type": "stream",
     "text": [
      "/home/colin/anaconda3/envs/mlops/lib/python3.7/site-packages/tensorflow_data_validation/utils/display_util.py:180: FutureWarning: Passing a negative integer is deprecated in version 1.0 and will not be supported in future version. Instead, use None to not limit the column width.\n",
      "  pd.set_option('max_colwidth', -1)\n"
     ]
    },
    {
     "data": {
      "text/html": [
       "<div>\n",
       "<style scoped>\n",
       "    .dataframe tbody tr th:only-of-type {\n",
       "        vertical-align: middle;\n",
       "    }\n",
       "\n",
       "    .dataframe tbody tr th {\n",
       "        vertical-align: top;\n",
       "    }\n",
       "\n",
       "    .dataframe thead th {\n",
       "        text-align: right;\n",
       "    }\n",
       "</style>\n",
       "<table border=\"1\" class=\"dataframe\">\n",
       "  <thead>\n",
       "    <tr style=\"text-align: right;\">\n",
       "      <th></th>\n",
       "      <th>Values</th>\n",
       "    </tr>\n",
       "    <tr>\n",
       "      <th>Domain</th>\n",
       "      <th></th>\n",
       "    </tr>\n",
       "  </thead>\n",
       "  <tbody>\n",
       "    <tr>\n",
       "      <th>'species'</th>\n",
       "      <td>'Iris-setosa', 'Iris-versicolor', 'Iris-virginica'</td>\n",
       "    </tr>\n",
       "  </tbody>\n",
       "</table>\n",
       "</div>"
      ],
      "text/plain": [
       "                                                       Values\n",
       "Domain                                                       \n",
       "'species'  'Iris-setosa', 'Iris-versicolor', 'Iris-virginica'"
      ]
     },
     "metadata": {},
     "output_type": "display_data"
    }
   ],
   "source": [
    "tfdv.display_schema(data_schema)"
   ]
  },
  {
   "cell_type": "code",
   "execution_count": 4,
   "id": "dcc4c269",
   "metadata": {},
   "outputs": [
    {
     "name": "stdout",
     "output_type": "stream",
     "text": [
      "WARNING:tensorflow:From /home/colin/anaconda3/envs/mlops/lib/python3.7/site-packages/tensorflow_data_validation/utils/stats_util.py:247: tf_record_iterator (from tensorflow.python.lib.io.tf_record) is deprecated and will be removed in a future version.\n",
      "Instructions for updating:\n",
      "Use eager execution and: \n",
      "`tf.data.TFRecordDataset(path)`\n"
     ]
    },
    {
     "name": "stderr",
     "output_type": "stream",
     "text": [
      "WARNING:tensorflow:From /home/colin/anaconda3/envs/mlops/lib/python3.7/site-packages/tensorflow_data_validation/utils/stats_util.py:247: tf_record_iterator (from tensorflow.python.lib.io.tf_record) is deprecated and will be removed in a future version.\n",
      "Instructions for updating:\n",
      "Use eager execution and: \n",
      "`tf.data.TFRecordDataset(path)`\n"
     ]
    }
   ],
   "source": [
    "import pandas as pd\n",
    "import mlflow\n",
    "\n",
    "mlflow.set_tracking_uri(\"http://localhost:5000\")\n",
    "mlflow.set_registry_uri(\"http://localhost:5000\")\n",
    "\n",
    "data = pd.read_csv(\"static/data/inputs.csv\")\n",
    "true_classes = pd.read_csv(\"static/data/raw_data.csv\", usecols=[\"species\"])\n",
    "labeled_data = data.join(true_classes)\n",
    "\n",
    "import mlflow\n",
    "logged_model = \\\n",
    "'models:/IRIS/Production'\n",
    "\n",
    "from mlops.serving import model as mlops_serving_model\n",
    "import importlib\n",
    "importlib.reload(mlops_serving_model)\n",
    "# Load model as a PyFuncModel.\n",
    "\n",
    "loaded_model = mlops_serving_model.load_model(logged_model)\n"
   ]
  },
  {
   "cell_type": "code",
   "execution_count": 5,
   "id": "f4d716e5",
   "metadata": {},
   "outputs": [],
   "source": [
    "predictions = loaded_model.predict(data)\n",
    "predict_classes = predictions[\"classes\"]\n",
    "predict_probs = predictions[\"probabilities\"]\n",
    "class_mapping = predictions[\"all_classes_mapping\"]\n",
    "all_classes = predictions[\"all_classes\"]"
   ]
  },
  {
   "cell_type": "code",
   "execution_count": 4,
   "id": "d51277a8",
   "metadata": {
    "scrolled": true
   },
   "outputs": [
    {
     "name": "stdout",
     "output_type": "stream",
     "text": [
      "[[50  0  0]\n",
      " [ 0 48  2]\n",
      " [ 0  0 50]]\n",
      "                 precision    recall  f1-score   support\n",
      "\n",
      "    Iris-setosa      1.000     1.000     1.000        50\n",
      "Iris-versicolor      1.000     0.960     0.980        50\n",
      " Iris-virginica      0.962     1.000     0.980        50\n",
      "\n",
      "       accuracy                          0.987       150\n",
      "      macro avg      0.987     0.987     0.987       150\n",
      "   weighted avg      0.987     0.987     0.987       150\n",
      "\n",
      "cohen kappa 0.98\n"
     ]
    },
    {
     "name": "stderr",
     "output_type": "stream",
     "text": [
      "/home/colin/anaconda3/envs/mlops/lib/python3.7/site-packages/sklearn/utils/validation.py:72: FutureWarning: Pass display_labels=['Iris-setosa' 'Iris-versicolor' 'Iris-virginica'] as keyword args. From version 1.0 (renaming of 0.25) passing these as positional arguments will result in an error\n",
      "  \"will result in an error\", FutureWarning)\n"
     ]
    },
    {
     "data": {
      "image/png": "[encoded data removed]",
      "text/plain": [
       "<Figure size 432x288 with 2 Axes>"
      ]
     },
     "metadata": {
      "needs_background": "light"
     },
     "output_type": "display_data"
    }
   ],
   "source": [
    "import sklearn\n",
    "\n",
    "print(sklearn.metrics.confusion_matrix(true_classes.values, predict_classes, labels=all_classes))\n",
    "cm = sklearn.metrics.confusion_matrix(true_classes.values, predict_classes, labels=all_classes)\n",
    "\n",
    "disp = sklearn.metrics.ConfusionMatrixDisplay(cm, all_classes)\n",
    "disp.plot()\n",
    "# Print the precision and recall, among other metrics\n",
    "print(sklearn.metrics.classification_report(true_classes.values, predict_classes, digits=3))\n",
    "# confusion matrix \n",
    "report = sklearn.metrics.classification_report(true_classes.values, predict_classes, \n",
    "                                      digits=3, output_dict=True)\n",
    "print(\"cohen kappa\",sklearn.metrics.cohen_kappa_score(true_classes.values, predict_classes))"
   ]
  },
  {
   "cell_type": "code",
   "execution_count": 5,
   "id": "e4a5f9ab",
   "metadata": {},
   "outputs": [
    {
     "data": {
      "text/plain": [
       "model_spec {\n",
       "  label_keys: \"species\"\n",
       "}\n",
       "metric_spec {\n",
       "  metrics {\n",
       "    metric_name: \"confusion_matrix\"\n",
       "  }\n",
       "  metrics {\n",
       "    metric_name: \"classification_report\"\n",
       "  }\n",
       "  metrics {\n",
       "    metric_name: \"accuracy_score\"\n",
       "  }\n",
       "  metrics {\n",
       "    metric_name: \"log_loss\"\n",
       "  }\n",
       "  metrics {\n",
       "    metric_name: \"roc_curve_display\"\n",
       "  }\n",
       "  metrics {\n",
       "    metric_name: \"roc_auc_score\"\n",
       "    config: \"{\\\"average\\\": \\\"weighted\\\"}\"\n",
       "  }\n",
       "}\n",
       "model_score {\n",
       "  score_name: \"classification_report\"\n",
       "  report_column: \"f1-score\"\n",
       "  report_row: \"weighted avg\"\n",
       "}"
      ]
     },
     "execution_count": 5,
     "metadata": {},
     "output_type": "execute_result"
    }
   ],
   "source": [
    "import mlops.model_analysis.metrics as mlops_ma_metrics\n",
    "importlib.reload(mlops_ma_metrics) \n",
    "import mlops.model_analysis as mlops_ma\n",
    "importlib.reload(mlops_ma) \n",
    "\n",
    "eval_config = mlops_ma.EvalConfig()\n",
    "eval_config.model_spec.label_keys.append(\"species\")\n",
    "eval_config.metric_spec.CopyFrom(mlops_ma_metrics.specs_from_metrics(\n",
    "[\n",
    "    (mlops_ma_metrics.confusion_matrix,),\n",
    "    (mlops_ma_metrics.classification_report,),\n",
    "    (mlops_ma_metrics.accuracy_score,),\n",
    "    (mlops_ma_metrics.log_loss,),\n",
    "    (mlops_ma_metrics.roc_curve_display,),\n",
    "    (mlops_ma_metrics.roc_auc_score, {\"average\": \"weighted\"})\n",
    "]))\n",
    "\n",
    "eval_config.model_score.score_name = \"classification_report\"\n",
    "eval_config.model_score.report_column = \"f1-score\"\n",
    "eval_config.model_score.report_row = \"weighted avg\"\n",
    "eval_config"
   ]
  },
  {
   "cell_type": "code",
   "execution_count": 10,
   "id": "6dae4276",
   "metadata": {
    "scrolled": false
   },
   "outputs": [
    {
     "name": "stderr",
     "output_type": "stream",
     "text": [
      "/home/colin/anaconda3/envs/mlops/lib/python3.7/site-packages/sklearn/utils/validation.py:72: FutureWarning: Pass labels=['Iris-setosa' 'Iris-versicolor' 'Iris-virginica'] as keyword args. From version 1.0 (renaming of 0.25) passing these as positional arguments will result in an error\n",
      "  \"will result in an error\", FutureWarning)\n"
     ]
    },
    {
     "data": {
      "image/png": "[encoded data removed]",
      "text/plain": [
       "<Figure size 1728x576 with 3 Axes>"
      ]
     },
     "metadata": {
      "needs_background": "light"
     },
     "output_type": "display_data"
    }
   ],
   "source": [
    "import mlops.model_analysis.api.model_eval_lib as mel\n",
    "importlib.reload(mel) \n",
    "\n",
    "classifier_report = mel.run_model_analysis(loaded_model, labeled_data, eval_config, \"static/performance_test\")"
   ]
  },
  {
   "cell_type": "code",
   "execution_count": 9,
   "id": "64536015",
   "metadata": {},
   "outputs": [
    {
     "data": {
      "text/plain": [
       "<function mlops.model_analysis.metrics.confusion_matrix(y_true, y_pred) -> Union[pandas.core.frame.DataFrame, float, str]>"
      ]
     },
     "execution_count": 9,
     "metadata": {},
     "output_type": "execute_result"
    }
   ],
   "source": [
    "import mlops.model_analysis.metrics as ma_metrics\n",
    "importlib.reload(ma_metrics)"
   ]
  },
  {
   "cell_type": "code",
   "execution_count": 31,
   "id": "5442a0da",
   "metadata": {},
   "outputs": [
    {
     "data": {
      "image/png": "[encoded data removed]",
      "text/plain": [
       "<Figure size 1728x576 with 3 Axes>"
      ]
     },
     "metadata": {
      "needs_background": "light"
     },
     "output_type": "display_data"
    }
   ],
   "source": [
    "import matplotlib.pyplot as plt\n",
    "\n",
    "num_classes = len(all_classes)\n",
    "\n",
    "fig, axes = plt.subplots(1, num_classes, figsize=(8*num_classes, 8))\n",
    "\n",
    "for i, class_ in enumerate(all_classes):\n",
    "    ax = axes[i]\n",
    "    i_labels = true_classes_one_hot_ids[:,i]\n",
    "#     i_labels = np.random.choice([0,1], predict_probs.shape[0])\n",
    "    i_predict_scores = predict_probs[:,i]\n",
    "    fpr, tpr, _ = sklearn.metrics.roc_curve(i_labels, i_predict_scores, pos_label=1)\n",
    "    roc_display = sklearn.metrics.RocCurveDisplay(fpr=fpr, tpr=tpr).plot(ax=ax)\n",
    "    ax.set_title(class_)\n",
    "fig.suptitle(\"ROC Curve\")\n",
    "plt.show()"
   ]
  },
  {
   "cell_type": "code",
   "execution_count": 12,
   "id": "639ede03",
   "metadata": {},
   "outputs": [
    {
     "name": "stdout",
     "output_type": "stream",
     "text": [
      "0.9984\n",
      "0.05376931153342762\n",
      "0.05376931153342762\n"
     ]
    }
   ],
   "source": [
    "import numpy as np\n",
    "def _class_one_hot_map(class_):\n",
    "    return class_mapping[class_][\"class_one_hot_ids\"]\n",
    "\n",
    "true_classes_one_hot_ids = np.array(\n",
    "            list(map(_class_one_hot_map, np.squeeze(true_classes.values)))\n",
    "        )\n",
    "# roc_auc_score\n",
    "print(sklearn.metrics.roc_auc_score(true_classes_one_hot_ids, predict_probs, \n",
    "                                    average=\"weighted\",multi_class=\"ovo\"))\n",
    "# log loss (cross entropy)\n",
    "print(sklearn.metrics.log_loss(true_classes_one_hot_ids, predict_probs))\n",
    "\n",
    "print(sklearn.metrics.log_loss(true_classes.values, predict_probs))"
   ]
  },
  {
   "cell_type": "code",
   "execution_count": 5,
   "id": "d6afb740",
   "metadata": {},
   "outputs": [],
   "source": [
    "import tensorflow_model_analysis  as tfma\n",
    "\n",
    "from google.protobuf import text_format\n",
    "\n",
    "metrics_specs = text_format.Parse(\"\"\"\n",
    "  metrics_specs {\n",
    "    metrics { class_name: \"ExampleCount\" }\n",
    "    metrics { class_name: \"WeightedExampleCount\" }\n",
    "    metrics { class_name: \"MeanSquaredError\" }\n",
    "    metrics { class_name: \"Accuracy\" }\n",
    "    metrics { class_name: \"MeanLabel\" }\n",
    "    metrics { class_name: \"MeanPrediction\" }\n",
    "    metrics { class_name: \"Calibration\" }\n",
    "    metrics {\n",
    "      class_name: \"CalibrationPlot\"\n",
    "      config: '\"min_value\": 0, \"max_value\": 10'\n",
    "    }\n",
    "  }\n",
    "\"\"\", tfma.EvalConfig()).metrics_specs"
   ]
  },
  {
   "cell_type": "code",
   "execution_count": 15,
   "id": "5c09714d",
   "metadata": {},
   "outputs": [
    {
     "data": {
      "text/plain": [
       "google.protobuf.pyext._message.RepeatedCompositeContainer"
      ]
     },
     "execution_count": 15,
     "metadata": {},
     "output_type": "execute_result"
    }
   ],
   "source": [
    "type(metrics_specs)"
   ]
  },
  {
   "cell_type": "code",
   "execution_count": 16,
   "id": "2421546a",
   "metadata": {},
   "outputs": [],
   "source": [
    "from tensorflow_metadata.proto.v0 import schema_pb2"
   ]
  },
  {
   "cell_type": "code",
   "execution_count": 17,
   "id": "965b6e92",
   "metadata": {},
   "outputs": [],
   "source": [
    "schema_url = \"/home/colin/mlflow_artifacts/1/e5d5ba20b47d4c3aa8eb45cc05ae13aa/artifacts/mlops_model/model_comp/schema.txt\""
   ]
  },
  {
   "cell_type": "code",
   "execution_count": 1,
   "id": "df9f0606",
   "metadata": {},
   "outputs": [],
   "source": [
    "import pyspark\n",
    "\n",
    "sc = pyspark.SparkContext()"
   ]
  },
  {
   "cell_type": "code",
   "execution_count": 2,
   "id": "7e210631",
   "metadata": {},
   "outputs": [
    {
     "name": "stdout",
     "output_type": "stream",
     "text": [
      "20\n"
     ]
    }
   ],
   "source": [
    "import findspark\n",
    "findspark.init()\n",
    "result = (\n",
    "    sc.parallelize([1, 2, 3, 4])\n",
    "    .map(lambda x: x * 2)\n",
    "    .reduce(lambda x, y: x + y)\n",
    ")\n",
    "print(result)"
   ]
  },
  {
   "cell_type": "code",
   "execution_count": 1,
   "id": "749a7acc",
   "metadata": {},
   "outputs": [
    {
     "data": {
      "application/javascript": [
       "\n",
       "        if (typeof window.interactive_beam_jquery == 'undefined') {\n",
       "          var jqueryScript = document.createElement('script');\n",
       "          jqueryScript.src = 'https://code.jquery.com/jquery-3.4.1.slim.min.js';\n",
       "          jqueryScript.type = 'text/javascript';\n",
       "          jqueryScript.onload = function() {\n",
       "            var datatableScript = document.createElement('script');\n",
       "            datatableScript.src = 'https://cdn.datatables.net/1.10.20/js/jquery.dataTables.min.js';\n",
       "            datatableScript.type = 'text/javascript';\n",
       "            datatableScript.onload = function() {\n",
       "              window.interactive_beam_jquery = jQuery.noConflict(true);\n",
       "              window.interactive_beam_jquery(document).ready(function($){\n",
       "                \n",
       "              });\n",
       "            }\n",
       "            document.head.appendChild(datatableScript);\n",
       "          };\n",
       "          document.head.appendChild(jqueryScript);\n",
       "        } else {\n",
       "          window.interactive_beam_jquery(document).ready(function($){\n",
       "            \n",
       "          });\n",
       "        }"
      ]
     },
     "metadata": {},
     "output_type": "display_data"
    },
    {
     "name": "stdout",
     "output_type": "stream",
     "text": [
      "20\n"
     ]
    }
   ],
   "source": [
    "import apache_beam as beam\n",
    "\n",
    "with beam.Pipeline() as pipeline:\n",
    "    result = (\n",
    "        pipeline\n",
    "        | beam.Create([1, 2, 3, 4])\n",
    "        | beam.Map(lambda x: x * 2)\n",
    "        | beam.CombineGlobally(sum)\n",
    "        | beam.Map(print)\n",
    "    )"
   ]
  },
  {
   "cell_type": "code",
   "execution_count": 2,
   "id": "d2b48a8a",
   "metadata": {},
   "outputs": [
    {
     "name": "stdout",
     "output_type": "stream",
     "text": [
      "20\n"
     ]
    }
   ],
   "source": [
    "import apache_beam as beam\n",
    "\n",
    "with beam.Pipeline() as pipeline:\n",
    "    result = (\n",
    "        pipeline\n",
    "        | 'Create numbers' >> beam.Create([1, 2, 3, 4])\n",
    "        | 'Multiply by two' >> beam.Map(lambda x: x * 2)\n",
    "        | 'Sum everything' >> beam.CombineGlobally(sum)\n",
    "        | 'Print results' >> beam.Map(print)\n",
    "    )"
   ]
  },
  {
   "cell_type": "code",
   "execution_count": 3,
   "id": "bc20b34b",
   "metadata": {},
   "outputs": [
    {
     "name": "stdout",
     "output_type": "stream",
     "text": [
      "0.1\n",
      "0.2\n",
      "0.3\n",
      "0.4\n"
     ]
    }
   ],
   "source": [
    "with beam.Pipeline() as pipeline:\n",
    "    values = pipeline | beam.Create([1, 2, 3, 4])\n",
    "    total = values | beam.CombineGlobally(sum)\n",
    "\n",
    "    # To access `total`, we need to pass it as a side input.\n",
    "    scaled_values = values | beam.Map(\n",
    "        lambda x, total: x / total,\n",
    "        total=beam.pvalue.AsSingleton(total))\n",
    "\n",
    "    scaled_values | beam.Map(print)"
   ]
  },
  {
   "cell_type": "code",
   "execution_count": 6,
   "id": "9ddcbd7d",
   "metadata": {},
   "outputs": [],
   "source": [
    "eval_config = text_format.Parse(\"\"\"\n",
    "  model_specs {\n",
    "    prediction_key: 'dnn_bar_pass_prediction',\n",
    "    label_key: 'pass_bar'\n",
    "  }\n",
    "  metrics_specs {\n",
    "    metrics { class_name: \"ExampleCount\" }\n",
    "    metrics { class_name: \"WeightedExampleCount\" }\n",
    "    metrics { class_name: \"SparseCategoricalCrossentropy\" }\n",
    "    metrics { class_name: \"SparseCategoricalAccuracy\" }\n",
    "    metrics { class_name: \"Precision\" config: '\"top_k\": 1' }\n",
    "    metrics { class_name: \"Precision\" config: '\"top_k\": 3' }\n",
    "    metrics { class_name: \"Recall\" config: '\"top_k\": 1' }\n",
    "    metrics { class_name: \"Recall\" config: '\"top_k\": 3' }\n",
    "    metrics { class_name: \"MultiClassConfusionMatrixPlot\" }\n",
    "  }\n",
    "  slicing_specs {\n",
    "    feature_keys: 'race1'\n",
    "  }\n",
    "  slicing_specs {}\n",
    "  \"\"\", tfma.EvalConfig())\n"
   ]
  },
  {
   "cell_type": "code",
   "execution_count": 8,
   "id": "f71c139f",
   "metadata": {},
   "outputs": [
    {
     "data": {
      "text/plain": [
       "[label_key: \"pass_bar\"\n",
       "prediction_key: \"dnn_bar_pass_prediction\"\n",
       "]"
      ]
     },
     "execution_count": 8,
     "metadata": {},
     "output_type": "execute_result"
    }
   ],
   "source": [
    "eval_config.model_specs"
   ]
  },
  {
   "cell_type": "code",
   "execution_count": 47,
   "id": "7a1cf9a1",
   "metadata": {},
   "outputs": [
    {
     "data": {
      "text/html": [
       "<!DOCTYPE html>\n",
       "<html>\n",
       "\n",
       "<head lang=\"en\">\n",
       "    <meta charset=\"UTF-8\">\n",
       "    <title>Performance Report</title>\n",
       "</head>\n",
       "\n",
       "<body>\n",
       "    <h1>Performance metrics</h1>\n",
       "    \n",
       "    <h2>Meta Data</h2>\n",
       "    <table border=\"1\" class=\"dataframe\">\n",
       "  <thead>\n",
       "    <tr style=\"text-align: right;\">\n",
       "      <th></th>\n",
       "      <th>Meta Data</th>\n",
       "    </tr>\n",
       "  </thead>\n",
       "  <tbody>\n",
       "    <tr>\n",
       "      <th>Evaluation Date</th>\n",
       "      <td></td>\n",
       "    </tr>\n",
       "    <tr>\n",
       "      <th>Model Name</th>\n",
       "      <td>logistic_regression</td>\n",
       "    </tr>\n",
       "    <tr>\n",
       "      <th>Model Version</th>\n",
       "      <td></td>\n",
       "    </tr>\n",
       "  </tbody>\n",
       "</table>\n",
       "    \n",
       "    <h2>classification_report</h2>\n",
       "    <table border=\"1\" class=\"dataframe\">\n",
       "  <thead>\n",
       "    <tr style=\"text-align: right;\">\n",
       "      <th></th>\n",
       "      <th>precision</th>\n",
       "      <th>recall</th>\n",
       "      <th>f1-score</th>\n",
       "      <th>example counts</th>\n",
       "    </tr>\n",
       "  </thead>\n",
       "  <tbody>\n",
       "    <tr>\n",
       "      <th>Iris-setosa</th>\n",
       "      <td>1.000000</td>\n",
       "      <td>1.000000</td>\n",
       "      <td>1.000000</td>\n",
       "      <td>11.0</td>\n",
       "    </tr>\n",
       "    <tr>\n",
       "      <th>Iris-versicolor</th>\n",
       "      <td>1.000000</td>\n",
       "      <td>0.769231</td>\n",
       "      <td>0.869565</td>\n",
       "      <td>13.0</td>\n",
       "    </tr>\n",
       "    <tr>\n",
       "      <th>Iris-virginica</th>\n",
       "      <td>0.666667</td>\n",
       "      <td>1.000000</td>\n",
       "      <td>0.800000</td>\n",
       "      <td>6.0</td>\n",
       "    </tr>\n",
       "    <tr>\n",
       "      <th>macro avg</th>\n",
       "      <td>0.888889</td>\n",
       "      <td>0.923077</td>\n",
       "      <td>0.889855</td>\n",
       "      <td>30.0</td>\n",
       "    </tr>\n",
       "    <tr>\n",
       "      <th>weighted avg</th>\n",
       "      <td>0.933333</td>\n",
       "      <td>0.900000</td>\n",
       "      <td>0.903478</td>\n",
       "      <td>30.0</td>\n",
       "    </tr>\n",
       "  </tbody>\n",
       "</table>\n",
       "    \n",
       "    <h2>confusion_matrix</h2>\n",
       "    <table border=\"1\" class=\"dataframe\">\n",
       "  <thead>\n",
       "    <tr style=\"text-align: right;\">\n",
       "      <th></th>\n",
       "      <th>Prediction Iris-setosa</th>\n",
       "      <th>Prediction Iris-versicolor</th>\n",
       "      <th>Prediction Iris-virginica</th>\n",
       "    </tr>\n",
       "  </thead>\n",
       "  <tbody>\n",
       "    <tr>\n",
       "      <th>True Iris-setosa</th>\n",
       "      <td>11.0</td>\n",
       "      <td>0.0</td>\n",
       "      <td>0.0</td>\n",
       "    </tr>\n",
       "    <tr>\n",
       "      <th>True Iris-versicolor</th>\n",
       "      <td>0.0</td>\n",
       "      <td>10.0</td>\n",
       "      <td>3.0</td>\n",
       "    </tr>\n",
       "    <tr>\n",
       "      <th>True Iris-virginica</th>\n",
       "      <td>0.0</td>\n",
       "      <td>0.0</td>\n",
       "      <td>6.0</td>\n",
       "    </tr>\n",
       "  </tbody>\n",
       "</table>\n",
       "    \n",
       "    <h2>roc_curve_display</h2>\n",
       "    <img src=\"/home/colin/mlflow_artifacts/1/75400250c83748338b64eeb7cb7a9131/artifacts/eval_reports/logistic_regression/RocCurve.png\" object-fit \"cover\">\n",
       "    \n",
       "    <h2>Other Metric Results</h2>\n",
       "    <table border=\"1\" class=\"dataframe\">\n",
       "  <thead>\n",
       "    <tr style=\"text-align: right;\">\n",
       "      <th></th>\n",
       "      <th>Result</th>\n",
       "    </tr>\n",
       "    <tr>\n",
       "      <th>Metric Name</th>\n",
       "      <th></th>\n",
       "    </tr>\n",
       "  </thead>\n",
       "  <tbody>\n",
       "    <tr>\n",
       "      <th>accuracy_score</th>\n",
       "      <td>0.900000</td>\n",
       "    </tr>\n",
       "    <tr>\n",
       "      <th>log_loss</th>\n",
       "      <td>0.403417</td>\n",
       "    </tr>\n",
       "    <tr>\n",
       "      <th>roc_auc_score</th>\n",
       "      <td>0.994690</td>\n",
       "    </tr>\n",
       "  </tbody>\n",
       "</table>\n",
       "    \n",
       "</body>\n",
       "\n",
       "</html>"
      ],
      "text/plain": [
       "<IPython.core.display.HTML object>"
      ]
     },
     "metadata": {},
     "output_type": "display_data"
    }
   ],
   "source": [
    "from mlops.model_analysis import view as mlops_ma_view\n",
    "import importlib\n",
    "importlib.reload(mlops_ma_view)\n",
    "\n",
    "report_html = mlops_ma_view.view_report(\"/home/colin/mlflow_artifacts/1/\"\n",
    "                                        \"75400250c83748338b64eeb7cb7a9131/artifacts/\"\n",
    "                                        \"eval_reports/logistic_regression\")"
   ]
  },
  {
   "cell_type": "code",
   "execution_count": 24,
   "id": "b1c7f3af",
   "metadata": {},
   "outputs": [
    {
     "name": "stdout",
     "output_type": "stream",
     "text": [
      "./static/performance_analysis/eval_result.txt\n"
     ]
    }
   ],
   "source": [
    "for i in os.walk(\".\"):\n",
    "    if \"eval_result.txt\" in i[2]:\n",
    "        print(os.path.join(i[0], \"eval_result.txt\"))"
   ]
  },
  {
   "cell_type": "code",
   "execution_count": 26,
   "id": "eeeefbb2",
   "metadata": {},
   "outputs": [
    {
     "data": {
      "text/plain": [
       "['RocCurve.png', 'eval_result.txt', 'report.html']"
      ]
     },
     "execution_count": 26,
     "metadata": {},
     "output_type": "execute_result"
    }
   ],
   "source": [
    "os.listdir('./static/performance_analysis')"
   ]
  },
  {
   "cell_type": "code",
   "execution_count": 45,
   "id": "dfc136f2",
   "metadata": {},
   "outputs": [
    {
     "data": {
      "text/plain": [
       "'2021-07-20, 14:24:24'"
      ]
     },
     "execution_count": 45,
     "metadata": {},
     "output_type": "execute_result"
    }
   ],
   "source": [
    "import time\n",
    "from datetime import datetime\n",
    "now = datetime.now()\n",
    "now.strftime(\"%Y-%m-%d, %H:%M:%S\")"
   ]
  },
  {
   "cell_type": "code",
   "execution_count": 48,
   "id": "561c8fd2",
   "metadata": {},
   "outputs": [],
   "source": [
    "from mlops.utils.mlflowutils import MlflowUtils\n",
    "\n",
    "MlflowUtils.init_mlflow_client(\"http://localhost:5000/\", \"http://localhost:5000/\")"
   ]
  },
  {
   "cell_type": "code",
   "execution_count": 7,
   "id": "544bc669",
   "metadata": {},
   "outputs": [],
   "source": [
    "import tensorflow_data_validation as tfdv"
   ]
  },
  {
   "cell_type": "code",
   "execution_count": 6,
   "id": "5324c031",
   "metadata": {},
   "outputs": [],
   "source": [
    "trainset_stats = loaded_model._model_impl._trainset_stats"
   ]
  },
  {
   "cell_type": "code",
   "execution_count": 9,
   "id": "52272be6",
   "metadata": {},
   "outputs": [],
   "source": [
    "eval_data_stats = tfdv.generate_statistics_from_dataframe(data)"
   ]
  },
  {
   "cell_type": "code",
   "execution_count": 11,
   "id": "2db45b7f",
   "metadata": {},
   "outputs": [
    {
     "data": {
      "text/html": [
       "<iframe id='facets-iframe' width=\"100%\" height=\"500px\"></iframe>\n",
       "        <script>\n",
       "        facets_iframe = document.getElementById('facets-iframe');\n",
       "        facets_html = '<script src=\"https://cdnjs.cloudflare.com/ajax/libs/webcomponentsjs/1.3.3/webcomponents-lite.js\"><\\/script><link rel=\"import\" href=\"https://raw.githubusercontent.com/PAIR-code/facets/master/facets-dist/facets-jupyter.html\"><facets-overview proto-input=\"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\"></facets-overview>';\n",
       "        facets_iframe.srcdoc = facets_html;\n",
       "         facets_iframe.id = \"\";\n",
       "         setTimeout(() => {\n",
       "           facets_iframe.setAttribute('height', facets_iframe.contentWindow.document.body.offsetHeight + 'px')\n",
       "         }, 1500)\n",
       "         </script>"
      ],
      "text/plain": [
       "<IPython.core.display.HTML object>"
      ]
     },
     "metadata": {},
     "output_type": "display_data"
    }
   ],
   "source": [
    "tfdv.visualize_statistics(trainset_stats,\n",
    "                          lhs_name='TRAIN_DATASET')"
   ]
  },
  {
   "cell_type": "code",
   "execution_count": 12,
   "id": "9cf86abd",
   "metadata": {},
   "outputs": [
    {
     "data": {
      "text/plain": [
       "{'probabilities': array([[0.87967225, 0.11280292, 0.00752483],\n",
       "        [0.8243231 , 0.1676138 , 0.0080631 ],\n",
       "        [0.8724736 , 0.12135823, 0.00616817],\n",
       "        [0.85391524, 0.13908892, 0.00699584],\n",
       "        [0.89586619, 0.09735051, 0.0067833 ],\n",
       "        [0.87094084, 0.11430736, 0.0147518 ],\n",
       "        [0.88609823, 0.10675851, 0.00714326],\n",
       "        [0.86791268, 0.12415084, 0.00793649],\n",
       "        [0.84562147, 0.14816382, 0.00621471],\n",
       "        [0.84543208, 0.14779659, 0.00677133],\n",
       "        [0.88041371, 0.11060029, 0.008986  ],\n",
       "        [0.87422257, 0.11821306, 0.00756438],\n",
       "        [0.8444159 , 0.14943178, 0.00615232],\n",
       "        [0.89143479, 0.10493591, 0.00362931],\n",
       "        [0.9055417 , 0.08636023, 0.00809806],\n",
       "        [0.91521219, 0.07244019, 0.01234762],\n",
       "        [0.89258323, 0.09646898, 0.01094779],\n",
       "        [0.86915062, 0.12152393, 0.00932545],\n",
       "        [0.8509069 , 0.1342213 , 0.0148718 ],\n",
       "        [0.89733161, 0.0937926 , 0.0088758 ],\n",
       "        [0.82747433, 0.1608552 , 0.01167047],\n",
       "        [0.87664081, 0.11187951, 0.01147968],\n",
       "        [0.92872885, 0.06739129, 0.00387986],\n",
       "        [0.79045934, 0.19060434, 0.01893631],\n",
       "        [0.85657021, 0.13398813, 0.00944165],\n",
       "        [0.80100653, 0.18913856, 0.00985491],\n",
       "        [0.83743773, 0.14950215, 0.01306012],\n",
       "        [0.86822117, 0.12316147, 0.00861735],\n",
       "        [0.86133644, 0.13033967, 0.00832389],\n",
       "        [0.85476379, 0.1375381 , 0.00769811],\n",
       "        [0.83329483, 0.15822676, 0.00847841],\n",
       "        [0.81393274, 0.1706988 , 0.01536846],\n",
       "        [0.93309586, 0.06156414, 0.00534   ],\n",
       "        [0.92651871, 0.06635379, 0.0071275 ],\n",
       "        [0.84543208, 0.14779659, 0.00677133],\n",
       "        [0.85980155, 0.1333226 , 0.00687585],\n",
       "        [0.86132728, 0.12975218, 0.00892054],\n",
       "        [0.84543208, 0.14779659, 0.00677133],\n",
       "        [0.86544596, 0.1289952 , 0.00555885],\n",
       "        [0.86167616, 0.12989012, 0.00843373],\n",
       "        [0.88056094, 0.1112964 , 0.00814266],\n",
       "        [0.71903671, 0.27191426, 0.00904903],\n",
       "        [0.88918362, 0.10568982, 0.00512657],\n",
       "        [0.8245533 , 0.15627963, 0.01916707],\n",
       "        [0.86540312, 0.11976998, 0.0148269 ],\n",
       "        [0.81843063, 0.17218809, 0.00938128],\n",
       "        [0.90156657, 0.0907262 , 0.00770723],\n",
       "        [0.87281167, 0.12093882, 0.00624951],\n",
       "        [0.88593943, 0.10561244, 0.00844813],\n",
       "        [0.86095867, 0.13137575, 0.00766558],\n",
       "        [0.06333833, 0.43269426, 0.50396742],\n",
       "        [0.08632618, 0.42608925, 0.48758457],\n",
       "        [0.04697525, 0.4097432 , 0.54328155],\n",
       "        [0.11439244, 0.64368768, 0.24191988],\n",
       "        [0.05643422, 0.48453975, 0.45902603],\n",
       "        [0.12059232, 0.5455291 , 0.33387857],\n",
       "        [0.07465568, 0.37519514, 0.55014918],\n",
       "        [0.29421717, 0.59284469, 0.11293814],\n",
       "        [0.07669298, 0.52121913, 0.40208789],\n",
       "        [0.1728917 , 0.54912813, 0.27798018],\n",
       "        [0.18943908, 0.69704044, 0.11352048],\n",
       "        [0.11583029, 0.47689204, 0.40727767],\n",
       "        [0.11228219, 0.70929157, 0.17842623],\n",
       "        [0.08291621, 0.49632487, 0.42075892],\n",
       "        [0.21450816, 0.53119978, 0.25429206],\n",
       "        [0.08314381, 0.46984563, 0.44701057],\n",
       "        [0.1146427 , 0.46658311, 0.4187742 ],\n",
       "        [0.18053735, 0.61223916, 0.20722349],\n",
       "        [0.04302478, 0.59295169, 0.36402353],\n",
       "        [0.16721421, 0.63357246, 0.19921333],\n",
       "        [0.05951509, 0.33896514, 0.60151977],\n",
       "        [0.12814609, 0.56079489, 0.31105902],\n",
       "        [0.04133151, 0.51909766, 0.43957084],\n",
       "        [0.0995753 , 0.56142212, 0.33900257],\n",
       "        [0.10118591, 0.53531322, 0.36350087],\n",
       "        [0.08125619, 0.4879432 , 0.43080061],\n",
       "        [0.04878243, 0.49537205, 0.45584552],\n",
       "        [0.03316814, 0.36409454, 0.60273732],\n",
       "        [0.08561143, 0.48116496, 0.4332236 ],\n",
       "        [0.22776991, 0.61336363, 0.15886646],\n",
       "        [0.16893957, 0.64797073, 0.1830897 ],\n",
       "        [0.19424935, 0.65092294, 0.15482771],\n",
       "        [0.16141342, 0.59054775, 0.24803883],\n",
       "        [0.04393939, 0.45185115, 0.50420946],\n",
       "        [0.12733275, 0.46666571, 0.40600154],\n",
       "        [0.10723534, 0.37319669, 0.51956797],\n",
       "        [0.05981471, 0.42634442, 0.51384087],\n",
       "        [0.06089162, 0.63277506, 0.30633332],\n",
       "        [0.18180536, 0.51251673, 0.30567792],\n",
       "        [0.13539848, 0.60757486, 0.25702667],\n",
       "        [0.13435384, 0.59961074, 0.26603542],\n",
       "        [0.09499317, 0.48371147, 0.42129536],\n",
       "        [0.14166245, 0.6092601 , 0.24907744],\n",
       "        [0.26236584, 0.62385629, 0.11377787],\n",
       "        [0.13700986, 0.56934781, 0.29364233],\n",
       "        [0.18465756, 0.52813652, 0.28720592],\n",
       "        [0.15264244, 0.53304968, 0.31430788],\n",
       "        [0.11236297, 0.53529641, 0.35234061],\n",
       "        [0.30361284, 0.57183579, 0.12455137],\n",
       "        [0.14858606, 0.55351545, 0.29789849],\n",
       "        [0.00545752, 0.11231102, 0.88223145],\n",
       "        [0.03051619, 0.36631681, 0.60316699],\n",
       "        [0.00655061, 0.19402492, 0.79942447],\n",
       "        [0.02207951, 0.32113089, 0.6567896 ],\n",
       "        [0.0085197 , 0.1913949 , 0.8000854 ],\n",
       "        [0.00280374, 0.15160445, 0.84559181],\n",
       "        [0.08634295, 0.50975904, 0.40389801],\n",
       "        [0.00720584, 0.2486383 , 0.74415585],\n",
       "        [0.01123307, 0.34912582, 0.63964111],\n",
       "        [0.00332859, 0.0820657 , 0.91460571],\n",
       "        [0.02370555, 0.25428633, 0.72200812],\n",
       "        [0.0185047 , 0.33522181, 0.64627349],\n",
       "        [0.0106483 , 0.22193946, 0.76741223],\n",
       "        [0.02522659, 0.37428218, 0.60049123],\n",
       "        [0.01321766, 0.21835927, 0.76842307],\n",
       "        [0.01226583, 0.17835566, 0.80937851],\n",
       "        [0.02245995, 0.3085927 , 0.66894735],\n",
       "        [0.0032019 , 0.08445534, 0.91234276],\n",
       "        [0.00107852, 0.13290464, 0.86601684],\n",
       "        [0.03587298, 0.56752436, 0.39660266],\n",
       "        [0.00658075, 0.15100935, 0.8424099 ],\n",
       "        [0.03571684, 0.34113858, 0.62314458],\n",
       "        [0.00262737, 0.18074494, 0.81662769],\n",
       "        [0.03046825, 0.39557192, 0.57395983],\n",
       "        [0.01193156, 0.1851947 , 0.80287374],\n",
       "        [0.01168666, 0.23556861, 0.75274473],\n",
       "        [0.03722652, 0.39015698, 0.57261651],\n",
       "        [0.04290099, 0.35718285, 0.59991617],\n",
       "        [0.01116529, 0.24840994, 0.74042476],\n",
       "        [0.01691853, 0.32641767, 0.6566638 ],\n",
       "        [0.00603077, 0.24297087, 0.75099836],\n",
       "        [0.00540024, 0.11501502, 0.87958474],\n",
       "        [0.00922196, 0.22371204, 0.767066  ],\n",
       "        [0.04654504, 0.45875072, 0.49470424],\n",
       "        [0.0379541 , 0.49385893, 0.46818698],\n",
       "        [0.00254199, 0.13508552, 0.86237249],\n",
       "        [0.00968053, 0.1343588 , 0.85596067],\n",
       "        [0.02563653, 0.29849136, 0.67587211],\n",
       "        [0.04859524, 0.3657396 , 0.58566516],\n",
       "        [0.01148082, 0.21451264, 0.77400654],\n",
       "        [0.00619208, 0.14882475, 0.84498316],\n",
       "        [0.00966537, 0.18559799, 0.80473663],\n",
       "        [0.03051619, 0.36631681, 0.60316699],\n",
       "        [0.0060408 , 0.14495658, 0.84900262],\n",
       "        [0.00527737, 0.11577591, 0.87894671],\n",
       "        [0.00957103, 0.19454906, 0.7958799 ],\n",
       "        [0.02075965, 0.38685104, 0.59238931],\n",
       "        [0.01926652, 0.27205386, 0.70867962],\n",
       "        [0.0147043 , 0.16118042, 0.82411528],\n",
       "        [0.04236251, 0.34999469, 0.6076428 ]]),\n",
       " 'classes': array(['Iris-setosa', 'Iris-setosa', 'Iris-setosa', 'Iris-setosa',\n",
       "        'Iris-setosa', 'Iris-setosa', 'Iris-setosa', 'Iris-setosa',\n",
       "        'Iris-setosa', 'Iris-setosa', 'Iris-setosa', 'Iris-setosa',\n",
       "        'Iris-setosa', 'Iris-setosa', 'Iris-setosa', 'Iris-setosa',\n",
       "        'Iris-setosa', 'Iris-setosa', 'Iris-setosa', 'Iris-setosa',\n",
       "        'Iris-setosa', 'Iris-setosa', 'Iris-setosa', 'Iris-setosa',\n",
       "        'Iris-setosa', 'Iris-setosa', 'Iris-setosa', 'Iris-setosa',\n",
       "        'Iris-setosa', 'Iris-setosa', 'Iris-setosa', 'Iris-setosa',\n",
       "        'Iris-setosa', 'Iris-setosa', 'Iris-setosa', 'Iris-setosa',\n",
       "        'Iris-setosa', 'Iris-setosa', 'Iris-setosa', 'Iris-setosa',\n",
       "        'Iris-setosa', 'Iris-setosa', 'Iris-setosa', 'Iris-setosa',\n",
       "        'Iris-setosa', 'Iris-setosa', 'Iris-setosa', 'Iris-setosa',\n",
       "        'Iris-setosa', 'Iris-setosa', 'Iris-virginica', 'Iris-virginica',\n",
       "        'Iris-virginica', 'Iris-versicolor', 'Iris-versicolor',\n",
       "        'Iris-versicolor', 'Iris-virginica', 'Iris-versicolor',\n",
       "        'Iris-versicolor', 'Iris-versicolor', 'Iris-versicolor',\n",
       "        'Iris-versicolor', 'Iris-versicolor', 'Iris-versicolor',\n",
       "        'Iris-versicolor', 'Iris-versicolor', 'Iris-versicolor',\n",
       "        'Iris-versicolor', 'Iris-versicolor', 'Iris-versicolor',\n",
       "        'Iris-virginica', 'Iris-versicolor', 'Iris-versicolor',\n",
       "        'Iris-versicolor', 'Iris-versicolor', 'Iris-versicolor',\n",
       "        'Iris-versicolor', 'Iris-virginica', 'Iris-versicolor',\n",
       "        'Iris-versicolor', 'Iris-versicolor', 'Iris-versicolor',\n",
       "        'Iris-versicolor', 'Iris-virginica', 'Iris-versicolor',\n",
       "        'Iris-virginica', 'Iris-virginica', 'Iris-versicolor',\n",
       "        'Iris-versicolor', 'Iris-versicolor', 'Iris-versicolor',\n",
       "        'Iris-versicolor', 'Iris-versicolor', 'Iris-versicolor',\n",
       "        'Iris-versicolor', 'Iris-versicolor', 'Iris-versicolor',\n",
       "        'Iris-versicolor', 'Iris-versicolor', 'Iris-versicolor',\n",
       "        'Iris-virginica', 'Iris-virginica', 'Iris-virginica',\n",
       "        'Iris-virginica', 'Iris-virginica', 'Iris-virginica',\n",
       "        'Iris-versicolor', 'Iris-virginica', 'Iris-virginica',\n",
       "        'Iris-virginica', 'Iris-virginica', 'Iris-virginica',\n",
       "        'Iris-virginica', 'Iris-virginica', 'Iris-virginica',\n",
       "        'Iris-virginica', 'Iris-virginica', 'Iris-virginica',\n",
       "        'Iris-virginica', 'Iris-versicolor', 'Iris-virginica',\n",
       "        'Iris-virginica', 'Iris-virginica', 'Iris-virginica',\n",
       "        'Iris-virginica', 'Iris-virginica', 'Iris-virginica',\n",
       "        'Iris-virginica', 'Iris-virginica', 'Iris-virginica',\n",
       "        'Iris-virginica', 'Iris-virginica', 'Iris-virginica',\n",
       "        'Iris-virginica', 'Iris-versicolor', 'Iris-virginica',\n",
       "        'Iris-virginica', 'Iris-virginica', 'Iris-virginica',\n",
       "        'Iris-virginica', 'Iris-virginica', 'Iris-virginica',\n",
       "        'Iris-virginica', 'Iris-virginica', 'Iris-virginica',\n",
       "        'Iris-virginica', 'Iris-virginica', 'Iris-virginica',\n",
       "        'Iris-virginica', 'Iris-virginica'], dtype=object),\n",
       " 'class_ids': array([0, 0, 0, 0, 0, 0, 0, 0, 0, 0, 0, 0, 0, 0, 0, 0, 0, 0, 0, 0, 0, 0,\n",
       "        0, 0, 0, 0, 0, 0, 0, 0, 0, 0, 0, 0, 0, 0, 0, 0, 0, 0, 0, 0, 0, 0,\n",
       "        0, 0, 0, 0, 0, 0, 2, 2, 2, 1, 1, 1, 2, 1, 1, 1, 1, 1, 1, 1, 1, 1,\n",
       "        1, 1, 1, 1, 2, 1, 1, 1, 1, 1, 1, 2, 1, 1, 1, 1, 1, 2, 1, 2, 2, 1,\n",
       "        1, 1, 1, 1, 1, 1, 1, 1, 1, 1, 1, 1, 2, 2, 2, 2, 2, 2, 1, 2, 2, 2,\n",
       "        2, 2, 2, 2, 2, 2, 2, 2, 2, 1, 2, 2, 2, 2, 2, 2, 2, 2, 2, 2, 2, 2,\n",
       "        2, 2, 1, 2, 2, 2, 2, 2, 2, 2, 2, 2, 2, 2, 2, 2, 2, 2]),\n",
       " 'class_one_hot_ids': array([[1., 0., 0.],\n",
       "        [1., 0., 0.],\n",
       "        [1., 0., 0.],\n",
       "        [1., 0., 0.],\n",
       "        [1., 0., 0.],\n",
       "        [1., 0., 0.],\n",
       "        [1., 0., 0.],\n",
       "        [1., 0., 0.],\n",
       "        [1., 0., 0.],\n",
       "        [1., 0., 0.],\n",
       "        [1., 0., 0.],\n",
       "        [1., 0., 0.],\n",
       "        [1., 0., 0.],\n",
       "        [1., 0., 0.],\n",
       "        [1., 0., 0.],\n",
       "        [1., 0., 0.],\n",
       "        [1., 0., 0.],\n",
       "        [1., 0., 0.],\n",
       "        [1., 0., 0.],\n",
       "        [1., 0., 0.],\n",
       "        [1., 0., 0.],\n",
       "        [1., 0., 0.],\n",
       "        [1., 0., 0.],\n",
       "        [1., 0., 0.],\n",
       "        [1., 0., 0.],\n",
       "        [1., 0., 0.],\n",
       "        [1., 0., 0.],\n",
       "        [1., 0., 0.],\n",
       "        [1., 0., 0.],\n",
       "        [1., 0., 0.],\n",
       "        [1., 0., 0.],\n",
       "        [1., 0., 0.],\n",
       "        [1., 0., 0.],\n",
       "        [1., 0., 0.],\n",
       "        [1., 0., 0.],\n",
       "        [1., 0., 0.],\n",
       "        [1., 0., 0.],\n",
       "        [1., 0., 0.],\n",
       "        [1., 0., 0.],\n",
       "        [1., 0., 0.],\n",
       "        [1., 0., 0.],\n",
       "        [1., 0., 0.],\n",
       "        [1., 0., 0.],\n",
       "        [1., 0., 0.],\n",
       "        [1., 0., 0.],\n",
       "        [1., 0., 0.],\n",
       "        [1., 0., 0.],\n",
       "        [1., 0., 0.],\n",
       "        [1., 0., 0.],\n",
       "        [1., 0., 0.],\n",
       "        [0., 0., 1.],\n",
       "        [0., 0., 1.],\n",
       "        [0., 0., 1.],\n",
       "        [0., 1., 0.],\n",
       "        [0., 1., 0.],\n",
       "        [0., 1., 0.],\n",
       "        [0., 0., 1.],\n",
       "        [0., 1., 0.],\n",
       "        [0., 1., 0.],\n",
       "        [0., 1., 0.],\n",
       "        [0., 1., 0.],\n",
       "        [0., 1., 0.],\n",
       "        [0., 1., 0.],\n",
       "        [0., 1., 0.],\n",
       "        [0., 1., 0.],\n",
       "        [0., 1., 0.],\n",
       "        [0., 1., 0.],\n",
       "        [0., 1., 0.],\n",
       "        [0., 1., 0.],\n",
       "        [0., 1., 0.],\n",
       "        [0., 0., 1.],\n",
       "        [0., 1., 0.],\n",
       "        [0., 1., 0.],\n",
       "        [0., 1., 0.],\n",
       "        [0., 1., 0.],\n",
       "        [0., 1., 0.],\n",
       "        [0., 1., 0.],\n",
       "        [0., 0., 1.],\n",
       "        [0., 1., 0.],\n",
       "        [0., 1., 0.],\n",
       "        [0., 1., 0.],\n",
       "        [0., 1., 0.],\n",
       "        [0., 1., 0.],\n",
       "        [0., 0., 1.],\n",
       "        [0., 1., 0.],\n",
       "        [0., 0., 1.],\n",
       "        [0., 0., 1.],\n",
       "        [0., 1., 0.],\n",
       "        [0., 1., 0.],\n",
       "        [0., 1., 0.],\n",
       "        [0., 1., 0.],\n",
       "        [0., 1., 0.],\n",
       "        [0., 1., 0.],\n",
       "        [0., 1., 0.],\n",
       "        [0., 1., 0.],\n",
       "        [0., 1., 0.],\n",
       "        [0., 1., 0.],\n",
       "        [0., 1., 0.],\n",
       "        [0., 1., 0.],\n",
       "        [0., 1., 0.],\n",
       "        [0., 0., 1.],\n",
       "        [0., 0., 1.],\n",
       "        [0., 0., 1.],\n",
       "        [0., 0., 1.],\n",
       "        [0., 0., 1.],\n",
       "        [0., 0., 1.],\n",
       "        [0., 1., 0.],\n",
       "        [0., 0., 1.],\n",
       "        [0., 0., 1.],\n",
       "        [0., 0., 1.],\n",
       "        [0., 0., 1.],\n",
       "        [0., 0., 1.],\n",
       "        [0., 0., 1.],\n",
       "        [0., 0., 1.],\n",
       "        [0., 0., 1.],\n",
       "        [0., 0., 1.],\n",
       "        [0., 0., 1.],\n",
       "        [0., 0., 1.],\n",
       "        [0., 0., 1.],\n",
       "        [0., 1., 0.],\n",
       "        [0., 0., 1.],\n",
       "        [0., 0., 1.],\n",
       "        [0., 0., 1.],\n",
       "        [0., 0., 1.],\n",
       "        [0., 0., 1.],\n",
       "        [0., 0., 1.],\n",
       "        [0., 0., 1.],\n",
       "        [0., 0., 1.],\n",
       "        [0., 0., 1.],\n",
       "        [0., 0., 1.],\n",
       "        [0., 0., 1.],\n",
       "        [0., 0., 1.],\n",
       "        [0., 0., 1.],\n",
       "        [0., 0., 1.],\n",
       "        [0., 1., 0.],\n",
       "        [0., 0., 1.],\n",
       "        [0., 0., 1.],\n",
       "        [0., 0., 1.],\n",
       "        [0., 0., 1.],\n",
       "        [0., 0., 1.],\n",
       "        [0., 0., 1.],\n",
       "        [0., 0., 1.],\n",
       "        [0., 0., 1.],\n",
       "        [0., 0., 1.],\n",
       "        [0., 0., 1.],\n",
       "        [0., 0., 1.],\n",
       "        [0., 0., 1.],\n",
       "        [0., 0., 1.],\n",
       "        [0., 0., 1.],\n",
       "        [0., 0., 1.]]),\n",
       " 'all_class_ids': array([{'class_ids': 0, 'class_one_hot_ids': array([1., 0., 0.])},\n",
       "        {'class_ids': 1, 'class_one_hot_ids': array([0., 1., 0.])},\n",
       "        {'class_ids': 2, 'class_one_hot_ids': array([0., 0., 1.])}],\n",
       "       dtype=object),\n",
       " 'all_classes': array(['Iris-setosa', 'Iris-versicolor', 'Iris-virginica'], dtype='<U15'),\n",
       " 'all_classes_mapping': OrderedDict([('Iris-setosa',\n",
       "               {'class_ids': 0, 'class_one_hot_ids': array([1., 0., 0.])}),\n",
       "              ('Iris-versicolor',\n",
       "               {'class_ids': 1, 'class_one_hot_ids': array([0., 1., 0.])}),\n",
       "              ('Iris-virginica',\n",
       "               {'class_ids': 2, 'class_one_hot_ids': array([0., 0., 1.])})])}"
      ]
     },
     "execution_count": 12,
     "metadata": {},
     "output_type": "execute_result"
    }
   ],
   "source": [
    "loaded_model.predict(data)"
   ]
  },
  {
   "cell_type": "code",
   "execution_count": null,
   "id": "544b8513",
   "metadata": {},
   "outputs": [],
   "source": []
  }
 ],
 "metadata": {
  "kernelspec": {
   "display_name": "mlops",
   "language": "python",
   "name": "mlops"
  },
  "language_info": {
   "codemirror_mode": {
    "name": "ipython",
    "version": 3
   },
   "file_extension": ".py",
   "mimetype": "text/x-python",
   "name": "python",
   "nbconvert_exporter": "python",
   "pygments_lexer": "ipython3",
   "version": "3.7.10"
  }
 },
 "nbformat": 4,
 "nbformat_minor": 5
}
